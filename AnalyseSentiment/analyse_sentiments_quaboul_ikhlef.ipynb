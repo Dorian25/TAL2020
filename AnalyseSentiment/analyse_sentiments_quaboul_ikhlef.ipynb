{
 "cells": [
  {
   "cell_type": "markdown",
   "metadata": {},
   "source": [
    "<font color='red'>QUABOUL Dorian - 3872944</font><br>\n",
    "<font color='red'>IKHLEF MOUHAMAD - 3870476</font>"
   ]
  },
  {
   "cell_type": "markdown",
   "metadata": {},
   "source": [
    "## Tâche 2 : Analyse de sentiments, représentations des textes"
   ]
  },
  {
   "cell_type": "raw",
   "metadata": {},
   "source": [
    "text explicatif de ce qui est demandé de faire (présenter la problématique) + ce qu'on nous allons faire résoudre cette problématique"
   ]
  },
  {
   "cell_type": "markdown",
   "metadata": {},
   "source": [
    "*Import des librairies*"
   ]
  },
  {
   "cell_type": "code",
   "execution_count": 2,
   "metadata": {},
   "outputs": [
    {
     "ename": "UnicodeDecodeError",
     "evalue": "'utf-8' codec can't decode byte 0xde in position 0: invalid continuation byte",
     "output_type": "error",
     "traceback": [
      "\u001b[1;31m---------------------------------------------------------------------------\u001b[0m",
      "\u001b[1;31mUnicodeDecodeError\u001b[0m                        Traceback (most recent call last)",
      "\u001b[1;32m<ipython-input-2-7ada4b196fba>\u001b[0m in \u001b[0;36m<module>\u001b[1;34m\u001b[0m\n\u001b[0;32m      6\u001b[0m \u001b[1;32mimport\u001b[0m \u001b[0mspacy\u001b[0m\u001b[1;33m\u001b[0m\u001b[1;33m\u001b[0m\u001b[0m\n\u001b[0;32m      7\u001b[0m \u001b[1;32mfrom\u001b[0m \u001b[0mspacy\u001b[0m \u001b[1;32mimport\u001b[0m \u001b[0mdisplacy\u001b[0m\u001b[1;33m\u001b[0m\u001b[1;33m\u001b[0m\u001b[0m\n\u001b[1;32m----> 8\u001b[1;33m \u001b[0mnlp\u001b[0m \u001b[1;33m=\u001b[0m \u001b[0mspacy\u001b[0m\u001b[1;33m.\u001b[0m\u001b[0mload\u001b[0m\u001b[1;33m(\u001b[0m\u001b[1;34m\"en_core_web_sm\"\u001b[0m\u001b[1;33m)\u001b[0m\u001b[1;33m\u001b[0m\u001b[1;33m\u001b[0m\u001b[0m\n\u001b[0m\u001b[0;32m      9\u001b[0m \u001b[1;32mfrom\u001b[0m \u001b[0mspacy\u001b[0m\u001b[1;33m.\u001b[0m\u001b[0mlang\u001b[0m\u001b[1;33m.\u001b[0m\u001b[0men\u001b[0m\u001b[1;33m.\u001b[0m\u001b[0mstop_words\u001b[0m \u001b[1;32mimport\u001b[0m \u001b[0mSTOP_WORDS\u001b[0m\u001b[1;33m\u001b[0m\u001b[1;33m\u001b[0m\u001b[0m\n\u001b[0;32m     10\u001b[0m \u001b[1;33m\u001b[0m\u001b[0m\n",
      "\u001b[1;32m~\\anaconda3\\lib\\site-packages\\spacy\\__init__.py\u001b[0m in \u001b[0;36mload\u001b[1;34m(name, **overrides)\u001b[0m\n\u001b[0;32m     28\u001b[0m     \u001b[1;32mif\u001b[0m \u001b[0mdepr_path\u001b[0m \u001b[1;32mnot\u001b[0m \u001b[1;32min\u001b[0m \u001b[1;33m(\u001b[0m\u001b[1;32mTrue\u001b[0m\u001b[1;33m,\u001b[0m \u001b[1;32mFalse\u001b[0m\u001b[1;33m,\u001b[0m \u001b[1;32mNone\u001b[0m\u001b[1;33m)\u001b[0m\u001b[1;33m:\u001b[0m\u001b[1;33m\u001b[0m\u001b[1;33m\u001b[0m\u001b[0m\n\u001b[0;32m     29\u001b[0m         \u001b[0mdeprecation_warning\u001b[0m\u001b[1;33m(\u001b[0m\u001b[0mWarnings\u001b[0m\u001b[1;33m.\u001b[0m\u001b[0mW001\u001b[0m\u001b[1;33m.\u001b[0m\u001b[0mformat\u001b[0m\u001b[1;33m(\u001b[0m\u001b[0mpath\u001b[0m\u001b[1;33m=\u001b[0m\u001b[0mdepr_path\u001b[0m\u001b[1;33m)\u001b[0m\u001b[1;33m)\u001b[0m\u001b[1;33m\u001b[0m\u001b[1;33m\u001b[0m\u001b[0m\n\u001b[1;32m---> 30\u001b[1;33m     \u001b[1;32mreturn\u001b[0m \u001b[0mutil\u001b[0m\u001b[1;33m.\u001b[0m\u001b[0mload_model\u001b[0m\u001b[1;33m(\u001b[0m\u001b[0mname\u001b[0m\u001b[1;33m,\u001b[0m \u001b[1;33m**\u001b[0m\u001b[0moverrides\u001b[0m\u001b[1;33m)\u001b[0m\u001b[1;33m\u001b[0m\u001b[1;33m\u001b[0m\u001b[0m\n\u001b[0m\u001b[0;32m     31\u001b[0m \u001b[1;33m\u001b[0m\u001b[0m\n\u001b[0;32m     32\u001b[0m \u001b[1;33m\u001b[0m\u001b[0m\n",
      "\u001b[1;32m~\\anaconda3\\lib\\site-packages\\spacy\\util.py\u001b[0m in \u001b[0;36mload_model\u001b[1;34m(name, **overrides)\u001b[0m\n\u001b[0;32m    164\u001b[0m             \u001b[1;32mreturn\u001b[0m \u001b[0mload_model_from_package\u001b[0m\u001b[1;33m(\u001b[0m\u001b[0mname\u001b[0m\u001b[1;33m,\u001b[0m \u001b[1;33m**\u001b[0m\u001b[0moverrides\u001b[0m\u001b[1;33m)\u001b[0m\u001b[1;33m\u001b[0m\u001b[1;33m\u001b[0m\u001b[0m\n\u001b[0;32m    165\u001b[0m         \u001b[1;32mif\u001b[0m \u001b[0mPath\u001b[0m\u001b[1;33m(\u001b[0m\u001b[0mname\u001b[0m\u001b[1;33m)\u001b[0m\u001b[1;33m.\u001b[0m\u001b[0mexists\u001b[0m\u001b[1;33m(\u001b[0m\u001b[1;33m)\u001b[0m\u001b[1;33m:\u001b[0m  \u001b[1;31m# path to model data directory\u001b[0m\u001b[1;33m\u001b[0m\u001b[1;33m\u001b[0m\u001b[0m\n\u001b[1;32m--> 166\u001b[1;33m             \u001b[1;32mreturn\u001b[0m \u001b[0mload_model_from_path\u001b[0m\u001b[1;33m(\u001b[0m\u001b[0mPath\u001b[0m\u001b[1;33m(\u001b[0m\u001b[0mname\u001b[0m\u001b[1;33m)\u001b[0m\u001b[1;33m,\u001b[0m \u001b[1;33m**\u001b[0m\u001b[0moverrides\u001b[0m\u001b[1;33m)\u001b[0m\u001b[1;33m\u001b[0m\u001b[1;33m\u001b[0m\u001b[0m\n\u001b[0m\u001b[0;32m    167\u001b[0m     \u001b[1;32melif\u001b[0m \u001b[0mhasattr\u001b[0m\u001b[1;33m(\u001b[0m\u001b[0mname\u001b[0m\u001b[1;33m,\u001b[0m \u001b[1;34m\"exists\"\u001b[0m\u001b[1;33m)\u001b[0m\u001b[1;33m:\u001b[0m  \u001b[1;31m# Path or Path-like to model data\u001b[0m\u001b[1;33m\u001b[0m\u001b[1;33m\u001b[0m\u001b[0m\n\u001b[0;32m    168\u001b[0m         \u001b[1;32mreturn\u001b[0m \u001b[0mload_model_from_path\u001b[0m\u001b[1;33m(\u001b[0m\u001b[0mname\u001b[0m\u001b[1;33m,\u001b[0m \u001b[1;33m**\u001b[0m\u001b[0moverrides\u001b[0m\u001b[1;33m)\u001b[0m\u001b[1;33m\u001b[0m\u001b[1;33m\u001b[0m\u001b[0m\n",
      "\u001b[1;32m~\\anaconda3\\lib\\site-packages\\spacy\\util.py\u001b[0m in \u001b[0;36mload_model_from_path\u001b[1;34m(model_path, meta, **overrides)\u001b[0m\n\u001b[0;32m    209\u001b[0m             \u001b[0mcomponent\u001b[0m \u001b[1;33m=\u001b[0m \u001b[0mnlp\u001b[0m\u001b[1;33m.\u001b[0m\u001b[0mcreate_pipe\u001b[0m\u001b[1;33m(\u001b[0m\u001b[0mfactory\u001b[0m\u001b[1;33m,\u001b[0m \u001b[0mconfig\u001b[0m\u001b[1;33m=\u001b[0m\u001b[0mconfig\u001b[0m\u001b[1;33m)\u001b[0m\u001b[1;33m\u001b[0m\u001b[1;33m\u001b[0m\u001b[0m\n\u001b[0;32m    210\u001b[0m             \u001b[0mnlp\u001b[0m\u001b[1;33m.\u001b[0m\u001b[0madd_pipe\u001b[0m\u001b[1;33m(\u001b[0m\u001b[0mcomponent\u001b[0m\u001b[1;33m,\u001b[0m \u001b[0mname\u001b[0m\u001b[1;33m=\u001b[0m\u001b[0mname\u001b[0m\u001b[1;33m)\u001b[0m\u001b[1;33m\u001b[0m\u001b[1;33m\u001b[0m\u001b[0m\n\u001b[1;32m--> 211\u001b[1;33m     \u001b[1;32mreturn\u001b[0m \u001b[0mnlp\u001b[0m\u001b[1;33m.\u001b[0m\u001b[0mfrom_disk\u001b[0m\u001b[1;33m(\u001b[0m\u001b[0mmodel_path\u001b[0m\u001b[1;33m,\u001b[0m \u001b[0mexclude\u001b[0m\u001b[1;33m=\u001b[0m\u001b[0mdisable\u001b[0m\u001b[1;33m)\u001b[0m\u001b[1;33m\u001b[0m\u001b[1;33m\u001b[0m\u001b[0m\n\u001b[0m\u001b[0;32m    212\u001b[0m \u001b[1;33m\u001b[0m\u001b[0m\n\u001b[0;32m    213\u001b[0m \u001b[1;33m\u001b[0m\u001b[0m\n",
      "\u001b[1;32m~\\anaconda3\\lib\\site-packages\\spacy\\language.py\u001b[0m in \u001b[0;36mfrom_disk\u001b[1;34m(self, path, exclude, disable)\u001b[0m\n\u001b[0;32m    945\u001b[0m             \u001b[1;31m# Convert to list here in case exclude is (default) tuple\u001b[0m\u001b[1;33m\u001b[0m\u001b[1;33m\u001b[0m\u001b[1;33m\u001b[0m\u001b[0m\n\u001b[0;32m    946\u001b[0m             \u001b[0mexclude\u001b[0m \u001b[1;33m=\u001b[0m \u001b[0mlist\u001b[0m\u001b[1;33m(\u001b[0m\u001b[0mexclude\u001b[0m\u001b[1;33m)\u001b[0m \u001b[1;33m+\u001b[0m \u001b[1;33m[\u001b[0m\u001b[1;34m\"vocab\"\u001b[0m\u001b[1;33m]\u001b[0m\u001b[1;33m\u001b[0m\u001b[1;33m\u001b[0m\u001b[0m\n\u001b[1;32m--> 947\u001b[1;33m         \u001b[0mutil\u001b[0m\u001b[1;33m.\u001b[0m\u001b[0mfrom_disk\u001b[0m\u001b[1;33m(\u001b[0m\u001b[0mpath\u001b[0m\u001b[1;33m,\u001b[0m \u001b[0mdeserializers\u001b[0m\u001b[1;33m,\u001b[0m \u001b[0mexclude\u001b[0m\u001b[1;33m)\u001b[0m\u001b[1;33m\u001b[0m\u001b[1;33m\u001b[0m\u001b[0m\n\u001b[0m\u001b[0;32m    948\u001b[0m         \u001b[0mself\u001b[0m\u001b[1;33m.\u001b[0m\u001b[0m_path\u001b[0m \u001b[1;33m=\u001b[0m \u001b[0mpath\u001b[0m\u001b[1;33m\u001b[0m\u001b[1;33m\u001b[0m\u001b[0m\n\u001b[0;32m    949\u001b[0m         \u001b[1;32mreturn\u001b[0m \u001b[0mself\u001b[0m\u001b[1;33m\u001b[0m\u001b[1;33m\u001b[0m\u001b[0m\n",
      "\u001b[1;32m~\\anaconda3\\lib\\site-packages\\spacy\\util.py\u001b[0m in \u001b[0;36mfrom_disk\u001b[1;34m(path, readers, exclude)\u001b[0m\n\u001b[0;32m    652\u001b[0m         \u001b[1;31m# Split to support file names like meta.json\u001b[0m\u001b[1;33m\u001b[0m\u001b[1;33m\u001b[0m\u001b[1;33m\u001b[0m\u001b[0m\n\u001b[0;32m    653\u001b[0m         \u001b[1;32mif\u001b[0m \u001b[0mkey\u001b[0m\u001b[1;33m.\u001b[0m\u001b[0msplit\u001b[0m\u001b[1;33m(\u001b[0m\u001b[1;34m\".\"\u001b[0m\u001b[1;33m)\u001b[0m\u001b[1;33m[\u001b[0m\u001b[1;36m0\u001b[0m\u001b[1;33m]\u001b[0m \u001b[1;32mnot\u001b[0m \u001b[1;32min\u001b[0m \u001b[0mexclude\u001b[0m\u001b[1;33m:\u001b[0m\u001b[1;33m\u001b[0m\u001b[1;33m\u001b[0m\u001b[0m\n\u001b[1;32m--> 654\u001b[1;33m             \u001b[0mreader\u001b[0m\u001b[1;33m(\u001b[0m\u001b[0mpath\u001b[0m \u001b[1;33m/\u001b[0m \u001b[0mkey\u001b[0m\u001b[1;33m)\u001b[0m\u001b[1;33m\u001b[0m\u001b[1;33m\u001b[0m\u001b[0m\n\u001b[0m\u001b[0;32m    655\u001b[0m     \u001b[1;32mreturn\u001b[0m \u001b[0mpath\u001b[0m\u001b[1;33m\u001b[0m\u001b[1;33m\u001b[0m\u001b[0m\n\u001b[0;32m    656\u001b[0m \u001b[1;33m\u001b[0m\u001b[0m\n",
      "\u001b[1;32m~\\anaconda3\\lib\\site-packages\\spacy\\language.py\u001b[0m in \u001b[0;36m<lambda>\u001b[1;34m(p)\u001b[0m\n\u001b[0;32m    932\u001b[0m         ) and _fix_pretrained_vectors_name(self)\n\u001b[0;32m    933\u001b[0m         deserializers[\"tokenizer\"] = lambda p: self.tokenizer.from_disk(\n\u001b[1;32m--> 934\u001b[1;33m             \u001b[0mp\u001b[0m\u001b[1;33m,\u001b[0m \u001b[0mexclude\u001b[0m\u001b[1;33m=\u001b[0m\u001b[1;33m[\u001b[0m\u001b[1;34m\"vocab\"\u001b[0m\u001b[1;33m]\u001b[0m\u001b[1;33m\u001b[0m\u001b[1;33m\u001b[0m\u001b[0m\n\u001b[0m\u001b[0;32m    935\u001b[0m         )\n\u001b[0;32m    936\u001b[0m         \u001b[1;32mfor\u001b[0m \u001b[0mname\u001b[0m\u001b[1;33m,\u001b[0m \u001b[0mproc\u001b[0m \u001b[1;32min\u001b[0m \u001b[0mself\u001b[0m\u001b[1;33m.\u001b[0m\u001b[0mpipeline\u001b[0m\u001b[1;33m:\u001b[0m\u001b[1;33m\u001b[0m\u001b[1;33m\u001b[0m\u001b[0m\n",
      "\u001b[1;32mtokenizer.pyx\u001b[0m in \u001b[0;36mspacy.tokenizer.Tokenizer.from_disk\u001b[1;34m()\u001b[0m\n",
      "\u001b[1;32mtokenizer.pyx\u001b[0m in \u001b[0;36mspacy.tokenizer.Tokenizer.from_bytes\u001b[1;34m()\u001b[0m\n",
      "\u001b[1;32m~\\anaconda3\\lib\\site-packages\\spacy\\util.py\u001b[0m in \u001b[0;36mfrom_bytes\u001b[1;34m(bytes_data, setters, exclude)\u001b[0m\n\u001b[0;32m    628\u001b[0m \u001b[1;33m\u001b[0m\u001b[0m\n\u001b[0;32m    629\u001b[0m \u001b[1;32mdef\u001b[0m \u001b[0mfrom_bytes\u001b[0m\u001b[1;33m(\u001b[0m\u001b[0mbytes_data\u001b[0m\u001b[1;33m,\u001b[0m \u001b[0msetters\u001b[0m\u001b[1;33m,\u001b[0m \u001b[0mexclude\u001b[0m\u001b[1;33m)\u001b[0m\u001b[1;33m:\u001b[0m\u001b[1;33m\u001b[0m\u001b[1;33m\u001b[0m\u001b[0m\n\u001b[1;32m--> 630\u001b[1;33m     \u001b[0mmsg\u001b[0m \u001b[1;33m=\u001b[0m \u001b[0msrsly\u001b[0m\u001b[1;33m.\u001b[0m\u001b[0mmsgpack_loads\u001b[0m\u001b[1;33m(\u001b[0m\u001b[0mbytes_data\u001b[0m\u001b[1;33m)\u001b[0m\u001b[1;33m\u001b[0m\u001b[1;33m\u001b[0m\u001b[0m\n\u001b[0m\u001b[0;32m    631\u001b[0m     \u001b[1;32mfor\u001b[0m \u001b[0mkey\u001b[0m\u001b[1;33m,\u001b[0m \u001b[0msetter\u001b[0m \u001b[1;32min\u001b[0m \u001b[0msetters\u001b[0m\u001b[1;33m.\u001b[0m\u001b[0mitems\u001b[0m\u001b[1;33m(\u001b[0m\u001b[1;33m)\u001b[0m\u001b[1;33m:\u001b[0m\u001b[1;33m\u001b[0m\u001b[1;33m\u001b[0m\u001b[0m\n\u001b[0;32m    632\u001b[0m         \u001b[1;31m# Split to support file names like meta.json\u001b[0m\u001b[1;33m\u001b[0m\u001b[1;33m\u001b[0m\u001b[1;33m\u001b[0m\u001b[0m\n",
      "\u001b[1;32m~\\anaconda3\\lib\\site-packages\\srsly\\_msgpack_api.py\u001b[0m in \u001b[0;36mmsgpack_loads\u001b[1;34m(data, use_list)\u001b[0m\n\u001b[0;32m     27\u001b[0m     \u001b[1;31m# msgpack-python docs suggest disabling gc before unpacking large messages\u001b[0m\u001b[1;33m\u001b[0m\u001b[1;33m\u001b[0m\u001b[1;33m\u001b[0m\u001b[0m\n\u001b[0;32m     28\u001b[0m     \u001b[0mgc\u001b[0m\u001b[1;33m.\u001b[0m\u001b[0mdisable\u001b[0m\u001b[1;33m(\u001b[0m\u001b[1;33m)\u001b[0m\u001b[1;33m\u001b[0m\u001b[1;33m\u001b[0m\u001b[0m\n\u001b[1;32m---> 29\u001b[1;33m     \u001b[0mmsg\u001b[0m \u001b[1;33m=\u001b[0m \u001b[0mmsgpack\u001b[0m\u001b[1;33m.\u001b[0m\u001b[0mloads\u001b[0m\u001b[1;33m(\u001b[0m\u001b[0mdata\u001b[0m\u001b[1;33m,\u001b[0m \u001b[0mraw\u001b[0m\u001b[1;33m=\u001b[0m\u001b[1;32mFalse\u001b[0m\u001b[1;33m,\u001b[0m \u001b[0muse_list\u001b[0m\u001b[1;33m=\u001b[0m\u001b[0muse_list\u001b[0m\u001b[1;33m)\u001b[0m\u001b[1;33m\u001b[0m\u001b[1;33m\u001b[0m\u001b[0m\n\u001b[0m\u001b[0;32m     30\u001b[0m     \u001b[0mgc\u001b[0m\u001b[1;33m.\u001b[0m\u001b[0menable\u001b[0m\u001b[1;33m(\u001b[0m\u001b[1;33m)\u001b[0m\u001b[1;33m\u001b[0m\u001b[1;33m\u001b[0m\u001b[0m\n\u001b[0;32m     31\u001b[0m     \u001b[1;32mreturn\u001b[0m \u001b[0mmsg\u001b[0m\u001b[1;33m\u001b[0m\u001b[1;33m\u001b[0m\u001b[0m\n",
      "\u001b[1;32m~\\anaconda3\\lib\\site-packages\\srsly\\msgpack\\__init__.py\u001b[0m in \u001b[0;36munpackb\u001b[1;34m(packed, **kwargs)\u001b[0m\n\u001b[0;32m     58\u001b[0m         \u001b[0mobject_hook\u001b[0m \u001b[1;33m=\u001b[0m \u001b[0mkwargs\u001b[0m\u001b[1;33m.\u001b[0m\u001b[0mget\u001b[0m\u001b[1;33m(\u001b[0m\u001b[1;34m'object_hook'\u001b[0m\u001b[1;33m)\u001b[0m\u001b[1;33m\u001b[0m\u001b[1;33m\u001b[0m\u001b[0m\n\u001b[0;32m     59\u001b[0m         \u001b[0mkwargs\u001b[0m\u001b[1;33m[\u001b[0m\u001b[1;34m'object_hook'\u001b[0m\u001b[1;33m]\u001b[0m \u001b[1;33m=\u001b[0m \u001b[0mfunctools\u001b[0m\u001b[1;33m.\u001b[0m\u001b[0mpartial\u001b[0m\u001b[1;33m(\u001b[0m\u001b[0m_decode_numpy\u001b[0m\u001b[1;33m,\u001b[0m \u001b[0mchain\u001b[0m\u001b[1;33m=\u001b[0m\u001b[0mobject_hook\u001b[0m\u001b[1;33m)\u001b[0m\u001b[1;33m\u001b[0m\u001b[1;33m\u001b[0m\u001b[0m\n\u001b[1;32m---> 60\u001b[1;33m     \u001b[1;32mreturn\u001b[0m \u001b[0m_unpackb\u001b[0m\u001b[1;33m(\u001b[0m\u001b[0mpacked\u001b[0m\u001b[1;33m,\u001b[0m \u001b[1;33m**\u001b[0m\u001b[0mkwargs\u001b[0m\u001b[1;33m)\u001b[0m\u001b[1;33m\u001b[0m\u001b[1;33m\u001b[0m\u001b[0m\n\u001b[0m\u001b[0;32m     61\u001b[0m \u001b[1;33m\u001b[0m\u001b[0m\n\u001b[0;32m     62\u001b[0m \u001b[1;33m\u001b[0m\u001b[0m\n",
      "\u001b[1;32m_unpacker.pyx\u001b[0m in \u001b[0;36msrsly.msgpack._unpacker.unpackb\u001b[1;34m()\u001b[0m\n",
      "\u001b[1;31mUnicodeDecodeError\u001b[0m: 'utf-8' codec can't decode byte 0xde in position 0: invalid continuation byte"
     ]
    }
   ],
   "source": [
    "from os import listdir\n",
    "from os.path import isfile, join\n",
    "import re\n",
    "import string\n",
    "\n",
    "import spacy\n",
    "from spacy import displacy\n",
    "nlp = spacy.load(\"en_core_web_sm\")\n",
    "from spacy.lang.en.stop_words import STOP_WORDS\n",
    "\n",
    "import nltk\n",
    "from nltk.corpus import stopwords\n",
    "from nltk.stem.snowball import SnowballStemmer\n",
    "\n",
    "import sklearn\n",
    "from sklearn.feature_extraction.text import CountVectorizer, TfidfVectorizer\n",
    "from sklearn.model_selection import GridSearchCV\n",
    "\n",
    "import time\n",
    "import unicodedata\n",
    "\n",
    "import numpy as np\n",
    "import matplotlib.pyplot as plt\n",
    "\n",
    "import sklearn.naive_bayes as bayes\n",
    "from sklearn import svm, linear_model as lin\n",
    "from sklearn.model_selection import cross_val_score, StratifiedKFold"
   ]
  },
  {
   "cell_type": "markdown",
   "metadata": {},
   "source": [
    "### Lecture de l'ensemble de revues étiquetées (positifs et négatifs)."
   ]
  },
  {
   "cell_type": "code",
   "execution_count": 20,
   "metadata": {},
   "outputs": [
    {
     "name": "stdout",
     "output_type": "stream",
     "text": [
      "There's not a single good line or character in the whole mess. If there was a plot, it was an afterthought and as far as acting goes, there's nothing good to say so Ill say nothing. I honestly cant understand how this type of nonsense gets produced and actually released, does somebody somewhere not at some stage think, 'Oh my god this really is a load of shite' and call it a day. Its crap like this that has people downloading illegally, the trailer looks like a completely different film, at least if you have download it, you haven't wasted your time or money Don't waste your time, this is painful.\n",
      "\n"
     ]
    }
   ],
   "source": [
    "posfiles = [f for f in listdir(\"./movies1000/pos\") if isfile(join(\"./movies1000/pos\", f))]\n",
    "negfiles = [f for f in listdir(\"./movies1000/neg\") if isfile(join(\"./movies1000/neg\", f))]\n",
    "\n",
    "pos = [open(\"./movies1000/pos/\"+f).read() for f in posfiles]\n",
    "lab_pos = [1 for _ in range(len(pos))]\n",
    "neg = [open(\"./movies1000/neg/\"+f).read() for f in negfiles]\n",
    "lab_neg = [-1 for _ in range(len(neg))]\n",
    "\n",
    "corpus = pos + neg\n",
    "labels = np.array(lab_pos + lab_neg)\n",
    "\n",
    "corpus_test = [t for t in open(\"./testSentiment.txt\", encoding=\"utf8\").read().split(\"<br /><br />\")]\n",
    "print(corpus_test[50935])"
   ]
  },
  {
   "cell_type": "code",
   "execution_count": 17,
   "metadata": {},
   "outputs": [
    {
     "name": "stdout",
     "output_type": "stream",
     "text": [
      "Nombre de revues (positives) : 1000\n",
      "Nombre de revues (negatives) : 1000\n",
      "Nombre de revues (test) : 50936\n"
     ]
    }
   ],
   "source": [
    "print(\"Nombre de revues (positives) :\",str(len(lab_pos)))\n",
    "print(\"Nombre de revues (negatives) :\",str(len(lab_neg)))\n",
    "print(\"Nombre de revues (test) :\",str(len(corpus_test)))"
   ]
  },
  {
   "cell_type": "raw",
   "metadata": {},
   "source": [
    "On affiche le texte brut d'une avis"
   ]
  },
  {
   "cell_type": "code",
   "execution_count": 5,
   "metadata": {
    "scrolled": false
   },
   "outputs": [
    {
     "name": "stdout",
     "output_type": "stream",
     "text": [
      "the happy bastard's 30-second review : \n",
      "american pie \n",
      "the summer of raunch continues to spread into theatres with this latest yuk fest , filled with sick jokes and teen dialogue aplenty . \n",
      "if you go expecting dawson's creek , you're in for a problem . \n",
      "if your expectations are lower ( and better , i might add ) , you will enjoy the hell out of american pie . \n",
      "the movie casts several unknowns , with the only real recognizable one being sctv's own eugene levy as a happy-go-lucky dad . \n",
      "the story revolves around four high school seniors who have one goal before the school year gets out- get laid . \n",
      "that's pretty much it . \n",
      "throughout the movie , little sick comic bits are sprinkled throughout , including a memorable scene involving an apple pie ( i won't give it away , but you probably know what it is ) and an internet broadcast gone horribly awry . \n",
      "of course , the movie has some slightly sentimental bits , but they don't drag the movie's humor content down that bad . \n",
      "most of the actors get their job done , but it's levy who's a hoot , a father who tries to talk sex with his son with the help of some curious \" visual aids \" . \n",
      "i couldn't stop laughing during this movie , and if you can stand all the raunch and the sex references , then american pie is for you . \n",
      "if you're one of those \" conservative \" types , well , i'll bet you're having fun at home while this , south park , and austin powers ii plays in theatres , now aren't you ? \n",
      "\n",
      "-----\n",
      "NOMBRE DE TOKENS =  285\n"
     ]
    }
   ],
   "source": [
    "txt = pos[400]\n",
    "print(txt)\n",
    "print(\"-----\")\n",
    "print(\"NOMBRE DE TOKENS = \",len(txt.split()))"
   ]
  },
  {
   "cell_type": "markdown",
   "metadata": {},
   "source": [
    "### NLP Preprocessing Pipeline"
   ]
  },
  {
   "cell_type": "markdown",
   "metadata": {},
   "source": [
    "On s'aperçoit que le texte possède des ponctuations, des caractères spéciaux \n",
    "La fonction de preprocessing qui permet de nettoyer et d'épurer une chaîne de caractères"
   ]
  },
  {
   "cell_type": "markdown",
   "metadata": {},
   "source": [
    "#### [ETAPE 1] Text Normalization/Cleaning"
   ]
  },
  {
   "cell_type": "code",
   "execution_count": 3,
   "metadata": {},
   "outputs": [],
   "source": [
    "def text_normalization(s):\n",
    "    # source : http://www-connex.lip6.fr/~guigue/wikihomepage/pmwiki.php?n=Course.CourseTALTME3pp\n",
    "    \n",
    "    # elimination tabulations et retours à la ligne\n",
    "    s = re.sub(\"\\s\",\" \",re.sub(\"\\s(?=\\s)\",\" \",s))\n",
    "    # elimination des ponctuations\n",
    "    punc = '!\"#$%&\\()*+,-./:;<=>?@[\\\\]^_`{|}~'\n",
    "    s = s.translate(str.maketrans(punc, ' ' * len(punc)))\n",
    "    # elimination des chiffres\n",
    "    s = re.sub('\\d+', '', s)\n",
    "    # elimination des espaces multiples\n",
    "    s = re.sub(' +', ' ', s)\n",
    "\n",
    "    return s"
   ]
  },
  {
   "cell_type": "code",
   "execution_count": 7,
   "metadata": {},
   "outputs": [
    {
     "name": "stdout",
     "output_type": "stream",
     "text": [
      "the happy bastard's second review american pie the summer of raunch continues to spread into theatres with this latest yuk fest filled with sick jokes and teen dialogue aplenty if you go expecting dawson's creek you're in for a problem if your expectations are lower and better i might add you will enjoy the hell out of american pie the movie casts several unknowns with the only real recognizable one being sctv's own eugene levy as a happy go lucky dad the story revolves around four high school seniors who have one goal before the school year gets out get laid that's pretty much it throughout the movie little sick comic bits are sprinkled throughout including a memorable scene involving an apple pie i won't give it away but you probably know what it is and an internet broadcast gone horribly awry of course the movie has some slightly sentimental bits but they don't drag the movie's humor content down that bad most of the actors get their job done but it's levy who's a hoot a father who tries to talk sex with his son with the help of some curious visual aids i couldn't stop laughing during this movie and if you can stand all the raunch and the sex references then american pie is for you if you're one of those conservative types well i'll bet you're having fun at home while this south park and austin powers ii plays in theatres now aren't you \n",
      "-----\n",
      "NOMBRE DE TOKENS =  248\n"
     ]
    }
   ],
   "source": [
    "step_1 = text_normalization(txt)\n",
    "print(step_1)\n",
    "print(\"-----\")\n",
    "print(\"NOMBRE DE TOKENS = \",len(step_1.split()))"
   ]
  },
  {
   "cell_type": "markdown",
   "metadata": {},
   "source": [
    "#### [ETAPE 2] POS-Tagging"
   ]
  },
  {
   "cell_type": "code",
   "execution_count": 11,
   "metadata": {},
   "outputs": [],
   "source": [
    "def display_postagging(s) :\n",
    "    print(\" \".join([w.pos_ for w in nlp(s)]))\n",
    "    print(\"-----\")\n",
    "    displacy.render(nlp(s),style=\"ent\",jupyter=True)"
   ]
  },
  {
   "cell_type": "code",
   "execution_count": 12,
   "metadata": {},
   "outputs": [
    {
     "name": "stdout",
     "output_type": "stream",
     "text": [
      "DET PROPN PROPN PART ADJ NOUN ADJ NOUN DET NOUN ADP NOUN VERB PART VERB ADP NOUN ADP DET ADJ PROPN ADV VERB ADP ADJ NOUN CCONJ ADJ NOUN ADJ SCONJ PRON VERB VERB PROPN PART NOUN PRON AUX ADP ADP DET NOUN SCONJ DET NOUN AUX ADJ CCONJ ADJ PRON VERB VERB PRON VERB VERB DET NOUN SCONJ ADP ADJ NOUN DET NOUN VERB ADJ NOUN ADP DET ADJ ADJ ADJ NOUN AUX PROPN PART ADJ NOUN NOUN SCONJ DET ADJ NOUN ADJ NOUN DET NOUN VERB ADP NUM ADJ NOUN NOUN PRON AUX NUM NOUN ADP DET NOUN NOUN VERB ADP VERB VERB DET AUX ADV ADV PRON ADP DET NOUN ADJ ADJ ADJ NOUN AUX VERB ADP VERB DET ADJ NOUN VERB DET NOUN NOUN PRON VERB PART VERB PRON ADV CCONJ PRON ADV VERB PRON PRON AUX CCONJ DET NOUN NOUN VERB ADV ADV ADP NOUN DET NOUN AUX DET ADV ADJ NOUN CCONJ PRON AUX PART VERB DET NOUN PART NOUN NOUN ADP DET ADJ ADJ ADP DET NOUN VERB DET NOUN VERB CCONJ PRON AUX INTJ PRON AUX DET NOUN DET NOUN PRON VERB PART VERB NOUN ADP DET NOUN ADP DET NOUN ADP DET ADJ ADJ NOUN PRON VERB PART VERB VERB ADP DET NOUN CCONJ SCONJ PRON VERB VERB DET DET NOUN CCONJ DET NOUN NOUN ADV ADJ NOUN AUX ADP PRON SCONJ PRON AUX NUM ADP DET ADJ NOUN INTJ PRON VERB VERB PRON AUX VERB NOUN ADP NOUN SCONJ DET PROPN PROPN CCONJ PROPN PROPN PROPN NOUN ADP NOUN ADV AUX PART PRON\n",
      "-----\n"
     ]
    },
    {
     "data": {
      "text/html": [
       "<span class=\"tex2jax_ignore\"><div class=\"entities\" style=\"line-height: 2.5; direction: ltr\">the happy bastard's \n",
       "<mark class=\"entity\" style=\"background: #e4e7d2; padding: 0.45em 0.6em; margin: 0 0.25em; line-height: 1; border-radius: 0.35em;\">\n",
       "    second\n",
       "    <span style=\"font-size: 0.8em; font-weight: bold; line-height: 1; border-radius: 0.35em; text-transform: uppercase; vertical-align: middle; margin-left: 0.5rem\">ORDINAL</span>\n",
       "</mark>\n",
       " review \n",
       "<mark class=\"entity\" style=\"background: #c887fb; padding: 0.45em 0.6em; margin: 0 0.25em; line-height: 1; border-radius: 0.35em;\">\n",
       "    american\n",
       "    <span style=\"font-size: 0.8em; font-weight: bold; line-height: 1; border-radius: 0.35em; text-transform: uppercase; vertical-align: middle; margin-left: 0.5rem\">NORP</span>\n",
       "</mark>\n",
       " pie the summer of \n",
       "<mark class=\"entity\" style=\"background: #c887fb; padding: 0.45em 0.6em; margin: 0 0.25em; line-height: 1; border-radius: 0.35em;\">\n",
       "    raunch\n",
       "    <span style=\"font-size: 0.8em; font-weight: bold; line-height: 1; border-radius: 0.35em; text-transform: uppercase; vertical-align: middle; margin-left: 0.5rem\">NORP</span>\n",
       "</mark>\n",
       " continues to spread into theatres with this latest yuk fest filled with sick jokes and teen dialogue aplenty if you go expecting \n",
       "<mark class=\"entity\" style=\"background: #aa9cfc; padding: 0.45em 0.6em; margin: 0 0.25em; line-height: 1; border-radius: 0.35em;\">\n",
       "    dawson\n",
       "    <span style=\"font-size: 0.8em; font-weight: bold; line-height: 1; border-radius: 0.35em; text-transform: uppercase; vertical-align: middle; margin-left: 0.5rem\">PERSON</span>\n",
       "</mark>\n",
       "'s creek you're in for a problem if your expectations are lower and better i might add you will enjoy the hell out of \n",
       "<mark class=\"entity\" style=\"background: #c887fb; padding: 0.45em 0.6em; margin: 0 0.25em; line-height: 1; border-radius: 0.35em;\">\n",
       "    american\n",
       "    <span style=\"font-size: 0.8em; font-weight: bold; line-height: 1; border-radius: 0.35em; text-transform: uppercase; vertical-align: middle; margin-left: 0.5rem\">NORP</span>\n",
       "</mark>\n",
       " pie the movie casts several unknowns with the only real recognizable one being \n",
       "<mark class=\"entity\" style=\"background: #7aecec; padding: 0.45em 0.6em; margin: 0 0.25em; line-height: 1; border-radius: 0.35em;\">\n",
       "    sctv\n",
       "    <span style=\"font-size: 0.8em; font-weight: bold; line-height: 1; border-radius: 0.35em; text-transform: uppercase; vertical-align: middle; margin-left: 0.5rem\">ORG</span>\n",
       "</mark>\n",
       "'s own eugene levy as a happy go lucky dad the story revolves \n",
       "<mark class=\"entity\" style=\"background: #e4e7d2; padding: 0.45em 0.6em; margin: 0 0.25em; line-height: 1; border-radius: 0.35em;\">\n",
       "    around four\n",
       "    <span style=\"font-size: 0.8em; font-weight: bold; line-height: 1; border-radius: 0.35em; text-transform: uppercase; vertical-align: middle; margin-left: 0.5rem\">CARDINAL</span>\n",
       "</mark>\n",
       " high school seniors who have \n",
       "<mark class=\"entity\" style=\"background: #e4e7d2; padding: 0.45em 0.6em; margin: 0 0.25em; line-height: 1; border-radius: 0.35em;\">\n",
       "    one\n",
       "    <span style=\"font-size: 0.8em; font-weight: bold; line-height: 1; border-radius: 0.35em; text-transform: uppercase; vertical-align: middle; margin-left: 0.5rem\">CARDINAL</span>\n",
       "</mark>\n",
       " goal before \n",
       "<mark class=\"entity\" style=\"background: #bfe1d9; padding: 0.45em 0.6em; margin: 0 0.25em; line-height: 1; border-radius: 0.35em;\">\n",
       "    the school year\n",
       "    <span style=\"font-size: 0.8em; font-weight: bold; line-height: 1; border-radius: 0.35em; text-transform: uppercase; vertical-align: middle; margin-left: 0.5rem\">DATE</span>\n",
       "</mark>\n",
       " gets out get laid that's pretty much it throughout the movie little sick comic bits are sprinkled throughout including a memorable scene involving an apple pie i won't give it away but you probably know what it is and an internet broadcast gone horribly awry of course the movie has some slightly sentimental bits but they don't drag the movie's humor content down that bad most of the actors get their job done but it's levy who's a hoot a father who tries to talk sex with his son with the help of some curious visual aids i couldn't stop laughing during this movie and if you can stand all the raunch and the sex references then \n",
       "<mark class=\"entity\" style=\"background: #c887fb; padding: 0.45em 0.6em; margin: 0 0.25em; line-height: 1; border-radius: 0.35em;\">\n",
       "    american\n",
       "    <span style=\"font-size: 0.8em; font-weight: bold; line-height: 1; border-radius: 0.35em; text-transform: uppercase; vertical-align: middle; margin-left: 0.5rem\">NORP</span>\n",
       "</mark>\n",
       " pie is for you if you're one of those conservative types well i'll bet you're having fun at home while this south park and \n",
       "<mark class=\"entity\" style=\"background: #aa9cfc; padding: 0.45em 0.6em; margin: 0 0.25em; line-height: 1; border-radius: 0.35em;\">\n",
       "    austin\n",
       "    <span style=\"font-size: 0.8em; font-weight: bold; line-height: 1; border-radius: 0.35em; text-transform: uppercase; vertical-align: middle; margin-left: 0.5rem\">PERSON</span>\n",
       "</mark>\n",
       " powers ii plays in theatres now aren't you </div></span>"
      ],
      "text/plain": [
       "<IPython.core.display.HTML object>"
      ]
     },
     "metadata": {},
     "output_type": "display_data"
    }
   ],
   "source": [
    "display_postagging(step_1)"
   ]
  },
  {
   "cell_type": "markdown",
   "metadata": {},
   "source": [
    "On ne va garder que les **adjectifs, les adverbes, les noms et les verbes** car les autres catégories de POS-tag (ex : nom propre, déterminant, pronom..) n'ont aucune influence sur la polarité de la phrase"
   ]
  },
  {
   "cell_type": "code",
   "execution_count": 4,
   "metadata": {},
   "outputs": [],
   "source": [
    "def filter_postagging(s):\n",
    "    return \" \".join([w.text for w in nlp(s) if w.pos_ in ['ADJ','ADV','NOUN','VERB']])"
   ]
  },
  {
   "cell_type": "code",
   "execution_count": 14,
   "metadata": {},
   "outputs": [
    {
     "name": "stdout",
     "output_type": "stream",
     "text": [
      "ADJ ADJ NOUN NOUN NOUN VERB NOUN NOUN ADV ADV VERB ADJ NOUN NOUN NOUN ADJ VERB VERB ADJ NOUN NOUN ADV ADJ VERB VERB VERB VERB ADJ NOUN NOUN VERB ADJ NOUN ADV ADJ ADJ ADJ NOUN VERB VERB NOUN VERB ADJ NOUN NOUN NOUN NOUN NOUN VERB VERB ADV ADJ NOUN ADJ ADJ ADJ NOUN VERB VERB ADJ NOUN VERB NOUN NOUN VERB VERB ADV VERB NOUN NOUN VERB ADV ADJ NOUN NOUN ADV ADJ NOUN VERB NOUN NOUN NOUN ADJ ADJ NOUN VERB NOUN VERB VERB NOUN NOUN VERB ADJ ADJ NOUN VERB VERB VERB NOUN VERB VERB NOUN NOUN NOUN ADV ADJ NOUN ADJ NOUN VERB VERB VERB NOUN VERB NOUN ADV\n",
      "-----\n",
      "second review american pie summer raunch continues spread theatres latest fest filled sick jokes teen dialogue aplenty go expecting creek problem expectations lower better might add will enjoy hell american pie movie casts several unknowns only real recognizable one own eugene levy happy go lucky dad story revolves high school seniors goal school year gets get laid pretty much movie little sick comic bits sprinkled including memorable scene involving apple pie wo give away probably know internet broadcast gone horribly awry course movie slightly sentimental bits drag movie humor content bad most actors get job done hoot father tries talk sex son help curious visual aids could stop laughing movie can stand raunch sex references then american pie conservative types 'll bet having fun home plays theatres now\n",
      "-----\n",
      "NOMBRE DE TOKENS =  128\n"
     ]
    }
   ],
   "source": [
    "step_2 = filter_postagging(step_1) \n",
    "print(\" \".join([w.pos_ for w in nlp(step_2) if w.pos_ in ['ADJ','ADV','NOUN','VERB']]))\n",
    "print(\"-----\")\n",
    "print(step_2)\n",
    "print(\"-----\")\n",
    "print(\"NOMBRE DE TOKENS = \",len(step_2.split()))"
   ]
  },
  {
   "cell_type": "markdown",
   "metadata": {},
   "source": [
    "#### [ETAPE 3a] Stemmatisation"
   ]
  },
  {
   "cell_type": "markdown",
   "metadata": {},
   "source": [
    "La stemmatisation permet\n",
    "\n",
    "Nous verrons son impact un peu plus tard dans la campagne d'évaluation"
   ]
  },
  {
   "cell_type": "code",
   "execution_count": 5,
   "metadata": {},
   "outputs": [],
   "source": [
    "def stemmatisation(s):\n",
    "    stemmer = SnowballStemmer('english',ignore_stopwords=True)\n",
    "    words = s.split()\n",
    "    words_stem = [stemmer.stem(w) for w in words]\n",
    "    return \" \".join(words_stem)"
   ]
  },
  {
   "cell_type": "code",
   "execution_count": 23,
   "metadata": {},
   "outputs": [
    {
     "name": "stdout",
     "output_type": "stream",
     "text": [
      "second review american pie summer raunch continu spread theatr latest fest fill sick joke teen dialogu aplenti go expect creek problem expect lower better might add will enjoy hell american pie movi cast sever unknown only real recogniz one own eugen levi happi go lucki dad stori revolv high school senior goal school year get get laid pretti much movi littl sick comic bit sprinkl includ memor scene involv appl pie wo give away probabl know internet broadcast gone horribl awri cours movi slight sentiment bit drag movi humor content bad most actor get job done hoot father tri talk sex son help curious visual aid could stop laugh movi can stand raunch sex refer then american pie conserv type ll bet having fun home play theatr now\n"
     ]
    }
   ],
   "source": [
    "step_3a = stemmatisation(step_2)\n",
    "print(step_3a)"
   ]
  },
  {
   "cell_type": "markdown",
   "metadata": {},
   "source": [
    "#### [ETAPE 3b]  Lemmatisation"
   ]
  },
  {
   "cell_type": "markdown",
   "metadata": {},
   "source": [
    "La lemmatisation permet\n",
    "\n",
    "Nous verrons son impact dans la campagne d'évaluation."
   ]
  },
  {
   "cell_type": "code",
   "execution_count": 6,
   "metadata": {},
   "outputs": [],
   "source": [
    "def lemmatisation(s):\n",
    "    lemmas = [t.lemma_ for t in nlp(s)]\n",
    "    return \" \".join(lemmas)"
   ]
  },
  {
   "cell_type": "code",
   "execution_count": 26,
   "metadata": {},
   "outputs": [
    {
     "name": "stdout",
     "output_type": "stream",
     "text": [
      "second review american pie summer raunch continue spread theatre latest fest fill sick joke teen dialogue aplenty go expect creek problem expectation lower well may add will enjoy hell american pie movie cast several unknown only real recognizable one own eugene levy happy go lucky dad story revolve high school senior goal school year get get lay pretty much movie little sick comic bit sprinkle include memorable scene involve apple pie wo give away probably know internet broadcast go horribly awry course movie slightly sentimental bit drag movie humor content bad most actor get job do hoot father try talk sex son help curious visual aid could stop laugh movie can stand raunch sex reference then american pie conservative type will bet have fun home play theatre now\n"
     ]
    }
   ],
   "source": [
    "step_3b = lemmatisation(step_2)\n",
    "print(step_3b)"
   ]
  },
  {
   "cell_type": "markdown",
   "metadata": {},
   "source": [
    "#### [ETAPE 4] Suppression des Stopwords"
   ]
  },
  {
   "cell_type": "markdown",
   "metadata": {},
   "source": [
    "Pour l'analyse de sentiment, certains stopwords peuvent s'avérer être très important pour déterminer la polarité d'une phrase ou d'un texte. Comme par exemple \"not\", \"no\" etc...\n",
    "\n",
    "Durant notre campagne d'évaluation, nous allons déterminer quel est le réel impact de ces stopwords."
   ]
  },
  {
   "cell_type": "code",
   "execution_count": 7,
   "metadata": {},
   "outputs": [],
   "source": [
    "def delete_stopwords(s,stopwords) :\n",
    "    tokens = nlp(s)\n",
    "    return \" \".join([w.text for w in tokens if w.text not in stopwords])"
   ]
  },
  {
   "cell_type": "code",
   "execution_count": 28,
   "metadata": {},
   "outputs": [
    {
     "name": "stdout",
     "output_type": "stream",
     "text": [
      "['i', 'me', 'my', 'myself', 'we', 'our', 'ours', 'ourselves', 'you', \"you're\", \"you've\", \"you'll\", \"you'd\", 'your', 'yours', 'yourself', 'yourselves', 'he', 'him', 'his', 'himself', 'she', \"she's\", 'her', 'hers', 'herself', 'it', \"it's\", 'its', 'itself', 'they', 'them', 'their', 'theirs', 'themselves', 'what', 'which', 'who', 'whom', 'this', 'that', \"that'll\", 'these', 'those', 'am', 'is', 'are', 'was', 'were', 'be', 'been', 'being', 'have', 'has', 'had', 'having', 'do', 'does', 'did', 'doing', 'a', 'an', 'the', 'and', 'but', 'if', 'or', 'because', 'as', 'until', 'while', 'of', 'at', 'by', 'for', 'with', 'about', 'against', 'between', 'into', 'through', 'during', 'before', 'after', 'above', 'below', 'to', 'from', 'up', 'down', 'in', 'out', 'on', 'off', 'over', 'under', 'again', 'further', 'then', 'once', 'here', 'there', 'when', 'where', 'why', 'how', 'all', 'any', 'both', 'each', 'few', 'more', 'most', 'other', 'some', 'such', 'no', 'nor', 'not', 'only', 'own', 'same', 'so', 'than', 'too', 'very', 's', 't', 'can', 'will', 'just', 'don', \"don't\", 'should', \"should've\", 'now', 'd', 'll', 'm', 'o', 're', 've', 'y', 'ain', 'aren', \"aren't\", 'couldn', \"couldn't\", 'didn', \"didn't\", 'doesn', \"doesn't\", 'hadn', \"hadn't\", 'hasn', \"hasn't\", 'haven', \"haven't\", 'isn', \"isn't\", 'ma', 'mightn', \"mightn't\", 'mustn', \"mustn't\", 'needn', \"needn't\", 'shan', \"shan't\", 'shouldn', \"shouldn't\", 'wasn', \"wasn't\", 'weren', \"weren't\", 'won', \"won't\", 'wouldn', \"wouldn't\"]\n",
      "-----\n",
      "179 STOPWORDS [NLTK]\n"
     ]
    }
   ],
   "source": [
    "print(stopwords.words('english'))\n",
    "print(\"-----\")\n",
    "print(len(stopwords.words('english')),\"STOPWORDS\",\"[NLTK]\")"
   ]
  },
  {
   "cell_type": "code",
   "execution_count": 29,
   "metadata": {},
   "outputs": [
    {
     "name": "stdout",
     "output_type": "stream",
     "text": [
      "second review american pie summer raunch continue spread theatre latest fest fill sick joke teen dialogue aplenty go expect creek problem expectation lower well may add enjoy hell american pie movie cast several unknown real recognizable one eugene levy happy go lucky dad story revolve high school senior goal school year get get lay pretty much movie little sick comic bit sprinkle include memorable scene involve apple pie wo give away probably know internet broadcast go horribly awry course movie slightly sentimental bit drag movie humor content bad actor get job hoot father try talk sex son help curious visual aid could stop laugh movie stand raunch sex reference american pie conservative type bet fun home play theatre\n",
      "-----\n",
      "NOMBRE DE TOKENS =  118\n"
     ]
    }
   ],
   "source": [
    "step_4 = delete_stopwords(step_3b,stopwords.words('english'))\n",
    "print(step_4)\n",
    "print(\"-----\")\n",
    "print(\"NOMBRE DE TOKENS = \",len(step_4.split()))"
   ]
  },
  {
   "cell_type": "code",
   "execution_count": 30,
   "metadata": {},
   "outputs": [
    {
     "name": "stdout",
     "output_type": "stream",
     "text": [
      "{'neither', 'once', 'since', 'as', 'only', 'thru', 'anyhow', 'yourself', 'least', 'get', 'former', 'name', 'behind', 'even', 'still', 'go', 'nor', 'elsewhere', 'whom', 'itself', 'your', 'quite', 'side', 'along', 'eleven', 'give', 'thereafter', 'therefore', 'else', 'herein', 'top', 'further', 'himself', 'sixty', 'out', 'again', 'namely', 'its', 'sometimes', 'twelve', 'beyond', 'where', 'both', 'within', 'somewhere', 'themselves', 'then', 'those', 'fifteen', 'same', 'forty', 'at', 'thereupon', 'such', 'more', 'alone', 'nowhere', '‘m', 'hence', 'although', 'several', 'become', 'there', 'whereafter', 'me', 'twenty', 'make', 'various', 'put', 'while', 'an', 'something', 'wherein', 'by', 'most', 'latterly', 'almost', 'seemed', 'four', 'through', 'were', 'therein', 'seems', 'hers', 'serious', 'n‘t', 'everything', 'they', 'nothing', 'our', 'has', 'third', 'indeed', 'until', 'though', 'hereby', 'five', 'about', 'who', 'formerly', 'always', 'when', 'whither', 'before', 'from', 'afterwards', 'yourselves', 'had', 'these', 'wherever', 'she', 'bottom', 'whatever', 'three', 'would', 'never', 'see', 'toward', 'part', 'their', 'two', \"'ve\", 'anything', 'much', 'ourselves', 'some', 'per', 'are', 'nine', 'because', 'onto', \"n't\", 'besides', 'may', 'whereupon', 'might', 'somehow', 'beforehand', 'a', 'we', 'hundred', '‘ve', 'just', 'all', 'rather', 'ca', 'few', 'above', 'is', 'amongst', 'them', 'back', 'together', 'am', 'say', 'on', 'was', 'ever', 'over', 'being', 'so', 'across', 'between', 'thereby', 'regarding', 'been', 'however', 'noone', \"'m\", 'after', 'her', 'six', 'up', 'full', 'have', 'n’t', 'call', \"'ll\", \"'re\", 'than', 'his', 'seeming', 'eight', 'many', 'whence', 'with', 'becoming', 'enough', 'someone', 'can', 'not', 'what', '’ll', 'that', '’s', 'him', 'must', 'due', 'beside', 'he', 'front', 'hereupon', 'became', 'the', 'nevertheless', 'among', 'mostly', 'mine', '‘d', 'did', 'myself', 'under', 'otherwise', \"'s\", 'often', 'below', '’m', '’re', 'should', 'whoever', 'too', 'to', 'either', 'another', 'also', 'this', '‘ll', 'latter', \"'d\", 'if', '‘re', 'well', 'already', 'using', 'whereas', 'does', 'anywhere', 'for', 'you', 'everywhere', 'one', 'around', 'first', 'via', 'whether', 'sometime', 'i', 'throughout', 'now', 'own', 'no', 'except', 'anyone', 'yet', 'cannot', 'whereby', 'empty', 'becomes', 'in', 'yours', 'perhaps', 'upon', 'will', 'move', 'hereafter', 'nobody', 'moreover', 'towards', 'could', 'made', 'of', 'us', 'very', 'thence', 'show', 'into', 'next', 'done', 'and', 'against', 'thus', 'really', 'amount', 'down', 'which', 're', 'why', 'be', 'my', 'ours', '‘s', 'other', 'without', 'every', 'meanwhile', 'doing', 'fifty', 'off', 'none', 'it', 'ten', '’d', 'last', 'everyone', 'take', 'or', 'each', 'how', 'please', '’ve', 'seem', 'any', 'unless', 'during', 'keep', 'less', 'herself', 'whenever', 'do', 'here', 'whole', 'but', 'others', 'used', 'whose', 'anyway'}\n",
      "-----\n",
      "326 STOPWORDS [SPACY]\n"
     ]
    }
   ],
   "source": [
    "print(STOP_WORDS)\n",
    "print(\"-----\")\n",
    "print(len(STOP_WORDS),\"STOPWORDS\",\"[SPACY]\")"
   ]
  },
  {
   "cell_type": "code",
   "execution_count": 31,
   "metadata": {},
   "outputs": [
    {
     "name": "stdout",
     "output_type": "stream",
     "text": [
      "second review american pie summer raunch continue spread theatre latest fest fill sick joke teen dialogue aplenty expect creek problem expectation lower add enjoy hell american pie movie cast unknown real recognizable eugene levy happy lucky dad story revolve high school senior goal school year lay pretty movie little sick comic bit sprinkle include memorable scene involve apple pie wo away probably know internet broadcast horribly awry course movie slightly sentimental bit drag movie humor content bad actor job hoot father try talk sex son help curious visual aid stop laugh movie stand raunch sex reference american pie conservative type bet fun home play theatre\n",
      "-----\n",
      "NOMBRE DE TOKENS =  105\n"
     ]
    }
   ],
   "source": [
    "step_4 = delete_stopwords(step_3b, STOP_WORDS)\n",
    "print(step_4)\n",
    "print(\"-----\")\n",
    "print(\"NOMBRE DE TOKENS = \",len(step_4.split()))"
   ]
  },
  {
   "cell_type": "code",
   "execution_count": 8,
   "metadata": {},
   "outputs": [
    {
     "name": "stdout",
     "output_type": "stream",
     "text": [
      "{'either', 'much', 'yet', 's', 'side', 'mustn', \"mustn't\", 'own', 'has', 'our', 'some', 'meanwhile', 'ever', 'least', \"it's\", 'under', 'three', 'itself', 'beside', 'hence', 'seeming', 'all', 'nowhere', 'across', '’m', 'because', 'becomes', 'doing', 'would', 'towards', 'other', 'too', 're', 'else', 'someone', 'enough', 'aren', '’re', 'onto', 'yourselves', 'after', 'an', 'him', 'besides', 'somewhere', 'therefore', 'why', 'please', 'your', 'off', 'wherever', \"doesn't\", 'everything', \"n't\", 'themselves', 'her', 'anyhow', 'so', 'anything', 'whither', '‘d', 'regarding', \"she's\", 'until', 'ours', 'at', 'though', 'can', 'once', \"won't\", 'am', 'that', 'when', 'few', 'or', 'their', 'whether', 'name', 'made', 'less', 'ten', \"hasn't\", 'thus', 'about', 'nothing', 'he', 'whenever', 'may', \"mightn't\", 'anywhere', 'being', \"you'll\", 'of', 'again', 'former', 'hereupon', 'wherein', 'n’t', 'elsewhere', 'above', 'twelve', 'throughout', 'n‘t', 'now', 'seemed', 'top', 'my', 'no', 'won', 'something', \"'ve\", 'last', \"needn't\", 'below', 'show', 'fifteen', 'seem', 'from', 'haven', 'whereupon', 'o', 'make', 'used', 'everywhere', 'several', 'isn', 'another', 'others', 'had', 'every', 'most', 'i', \"wasn't\", 'nor', 'beforehand', 'whence', 'hereby', 'll', 'see', 'well', 'whoever', 'back', 'should', '’s', 'us', 'ourselves', \"weren't\", \"you'd\", 'me', \"hadn't\", 'hundred', 'within', 'give', \"isn't\", 'twenty', \"couldn't\", 'although', 'anyway', 'often', 'wasn', 'she', 'with', \"'re\", 'thereby', 'how', 'serious', 've', 'various', \"'s\", 'keep', 'down', 'does', 'thereafter', 'while', 'for', 'out', 'over', 'move', 'then', 'was', 'shouldn', 'just', 'five', 'during', 'around', 'two', 'due', 'next', 'via', 'hereafter', 'whom', 'however', 'perhaps', 'alone', 'ain', 'myself', 'done', 'any', 'is', 'herein', 'needn', 'afterwards', 'wouldn', 'eleven', 'nobody', 'always', 'go', 'might', 'against', 'using', 'nine', 'to', 'both', 'did', 'more', 'except', 'also', 'thru', 'take', 'together', 'since', 't', 'very', 'these', 'become', 'latter', 'not', 'therein', \"shan't\", 'and', 'you', 'but', 'eight', 'anyone', 'on', '‘ve', 'shan', 'amongst', \"haven't\", 'one', 'bottom', 'them', 'rather', 'still', 'thereupon', 'here', 'there', 'its', 'hadn', 'already', 'up', 'first', 'third', 'whereby', 'namely', 'noone', 'unless', 'none', 'six', 'ca', 'even', 'almost', 'front', 'per', 'those', 'be', 'toward', 'through', 'it', 'mightn', 'cannot', 'full', 'say', 'must', 'been', \"'d\", 'if', 'between', 'were', 'quite', 'don', 'a', \"wouldn't\", 'weren', 'formerly', '‘s', 'otherwise', 'sixty', 'in', 'whereas', 'this', 'really', 'than', 'four', 'm', 'sometimes', 'yourself', 'amount', 'are', 'the', '’d', 'forty', 'somehow', 'never', 'before', 'theirs', 'same', 'himself', 'without', 'empty', 'mine', 'call', 'didn', 'where', \"should've\", 'further', 'couldn', 'get', 'whole', 'his', 'neither', 'whereafter', 'we', \"you're\", 'having', 'what', \"you've\", 'whatever', 'as', 'put', '‘m', 'latterly', 'moreover', 'such', 'which', 'they', 'will', 'among', 'everyone', 'becoming', '‘re', \"shouldn't\", \"'m\", 'who', 'nevertheless', \"don't\", '’ve', 'by', 'sometime', 'became', 'upon', 'doesn', 'ma', 'y', \"that'll\", 'along', 'fifty', 'many', 'each', 'hers', \"didn't\", 'yours', 'beyond', 'hasn', '‘ll', 'have', 'part', \"aren't\", 'thence', 'whose', '’ll', 'mostly', 'seems', 'herself', 'do', 'into', 'indeed', 'behind', 'could', \"'ll\", 'd', 'only'}\n",
      "-----\n",
      "382 STOPWORDS [NLTK+SPACY]\n"
     ]
    }
   ],
   "source": [
    "fusion_stopwords = set(stopwords.words('english')).union(STOP_WORDS)\n",
    "print(fusion_stopwords)\n",
    "print(\"-----\")\n",
    "print(len(fusion_stopwords),\"STOPWORDS\",\"[NLTK+SPACY]\")"
   ]
  },
  {
   "cell_type": "code",
   "execution_count": 33,
   "metadata": {},
   "outputs": [
    {
     "name": "stdout",
     "output_type": "stream",
     "text": [
      "second review american pie summer raunch continue spread theatre latest fest fill sick joke teen dialogue aplenty expect creek problem expectation lower add enjoy hell american pie movie cast unknown real recognizable eugene levy happy lucky dad story revolve high school senior goal school year lay pretty movie little sick comic bit sprinkle include memorable scene involve apple pie wo away probably know internet broadcast horribly awry course movie slightly sentimental bit drag movie humor content bad actor job hoot father try talk sex son help curious visual aid stop laugh movie stand raunch sex reference american pie conservative type bet fun home play theatre\n",
      "-----\n",
      "NOMBRE DE TOKENS =  105\n"
     ]
    }
   ],
   "source": [
    "step_4 = delete_stopwords(step_3b, fusion_stopwords)\n",
    "print(step_4)\n",
    "print(\"-----\")\n",
    "print(\"NOMBRE DE TOKENS = \",len(step_4.split()))"
   ]
  },
  {
   "cell_type": "markdown",
   "metadata": {},
   "source": [
    "#### Pipeline du preprocessing"
   ]
  },
  {
   "cell_type": "markdown",
   "metadata": {},
   "source": [
    "Cette fonction résume les différentes étape de la \"pipeline\" du preprocessing. Elle sera utilisée lors de la campagne d'évaluation."
   ]
  },
  {
   "cell_type": "code",
   "execution_count": 9,
   "metadata": {},
   "outputs": [],
   "source": [
    "def preprocessing(s,option,stopwords) :\n",
    "    if option == \"stema\" :\n",
    "        if stopwords :\n",
    "            return delete_stopwords(stemmatisation(filter_postagging(text_normalization(s))),stopwords)\n",
    "        else :\n",
    "            return stemmatisation(filter_postagging(text_normalization(s)))\n",
    "    elif option == \"lema\" :\n",
    "        if stopwords :\n",
    "            return delete_stopwords(lemmatisation(filter_postagging(text_normalization(s))),stopwords)\n",
    "        else :\n",
    "            return lemmatisation(filter_postagging(text_normalization(s)))\n",
    "    else :\n",
    "        if stopwords :\n",
    "            return delete_stopwords(filter_postagging(text_normalization(s)),stopwords)\n",
    "        else :\n",
    "            return filter_postagging(text_normalization(s))"
   ]
  },
  {
   "cell_type": "markdown",
   "metadata": {},
   "source": [
    "### Exploration et analyse de la matrice Document-Term"
   ]
  },
  {
   "cell_type": "markdown",
   "metadata": {},
   "source": [
    "#### Construction des différents corpus"
   ]
  },
  {
   "cell_type": "code",
   "execution_count": 10,
   "metadata": {},
   "outputs": [],
   "source": [
    "# On garde les stopwords\n",
    "corpus_ = [preprocessing(d,\"none\",None) for d in corpus]\n",
    "corpus_lema = [preprocessing(d,\"lema\",None) for d in corpus]\n",
    "corpus_stema = [preprocessing(d,\"stema\",None) for d in corpus]\n",
    "# On supprime les stopwords\n",
    "corpus_sw = [preprocessing(d,\"none\",fusion_stopwords) for d in corpus]\n",
    "corpus_sw_lema = [preprocessing(d,\"lema\",fusion_stopwords) for d in corpus]\n",
    "corpus_sw_stema = [preprocessing(d,\"stema\",fusion_stopwords) for d in corpus]\n",
    "\n",
    "all_corpus = [[corpus_, corpus_lema, corpus_stema],\n",
    "              [corpus_sw, corpus_sw_lema, corpus_sw_stema]]"
   ]
  },
  {
   "cell_type": "markdown",
   "metadata": {},
   "source": [
    "#### [ETAPE 5] CountVectorizer"
   ]
  },
  {
   "cell_type": "markdown",
   "metadata": {},
   "source": [
    "On va se concentrer sur le *corpus_sw_lema* pour explorer la matrice Document-Term et optimiser les différents hyper-paramètres des modèles qu'on va manipuler."
   ]
  },
  {
   "cell_type": "code",
   "execution_count": 52,
   "metadata": {},
   "outputs": [],
   "source": [
    "vectorizer = CountVectorizer(min_df=2)\n",
    "X = vectorizer.fit_transform(corpus_sw_lema)"
   ]
  },
  {
   "cell_type": "code",
   "execution_count": 53,
   "metadata": {},
   "outputs": [
    {
     "name": "stdout",
     "output_type": "stream",
     "text": [
      "Nombre de mots dans le vocabulaire :  15455\n",
      "30 mots du vocabulaire :  ['fully' 'fumble' 'fumbling' 'fume' 'fun' 'function' 'functional'\n",
      " 'functionary' 'functioning' 'fund' 'fundamental' 'fundamentalist'\n",
      " 'fundamentally' 'funding' 'fundraiser' 'funeral' 'funky' 'funnel'\n",
      " 'funner' 'funnest' 'funnier' 'funniest' 'funny' 'fur' 'furious'\n",
      " 'furiously' 'furnish' 'furnishing' 'furniture' 'furrow']\n"
     ]
    }
   ],
   "source": [
    "vocab = np.array(vectorizer.get_feature_names())\n",
    "\n",
    "print(\"Nombre de mots dans le vocabulaire : \", len(vocab))\n",
    "print(\"30 mots du vocabulaire : \", vocab[5500:5530])"
   ]
  },
  {
   "cell_type": "code",
   "execution_count": 54,
   "metadata": {},
   "outputs": [
    {
     "data": {
      "image/png": "[encoded data removed]",
      "text/plain": [
       "<Figure size 432x288 with 1 Axes>"
      ]
     },
     "metadata": {
      "needs_background": "light"
     },
     "output_type": "display_data"
    },
    {
     "data": {
      "image/png": "[encoded data removed]",
      "text/plain": [
       "<Figure size 432x288 with 1 Axes>"
      ]
     },
     "metadata": {
      "needs_background": "light"
     },
     "output_type": "display_data"
    }
   ],
   "source": [
    "tf_pos = X.toarray().sum(0)[:1000]\n",
    "tf_neg = X.toarray().sum(0)[1000:]\n",
    "\n",
    "n = 20\n",
    "\n",
    "ind_p = tf_pos.argsort()[:n]\n",
    "ind_n = tf_neg.argsort()[:n]\n",
    "\n",
    "plt.barh(vocab[ind_p], tf_pos[ind_p])\n",
    "plt.title(\"les \"+str(n)+\" mots les moins fréquents (positif)\")\n",
    "plt.show()\n",
    "\n",
    "plt.barh(vocab[ind_n], tf_neg[ind_n])\n",
    "plt.title(\"les \"+str(n)+\" mots les moins fréquents (négatif)\")\n",
    "plt.show()"
   ]
  },
  {
   "cell_type": "code",
   "execution_count": 55,
   "metadata": {},
   "outputs": [
    {
     "data": {
      "image/png": "[encoded data removed]",
      "text/plain": [
       "<Figure size 432x288 with 1 Axes>"
      ]
     },
     "metadata": {
      "needs_background": "light"
     },
     "output_type": "display_data"
    },
    {
     "data": {
      "image/png": "[encoded data removed]",
      "text/plain": [
       "<Figure size 432x288 with 1 Axes>"
      ]
     },
     "metadata": {
      "needs_background": "light"
     },
     "output_type": "display_data"
    }
   ],
   "source": [
    "ind_p = tf_pos.argsort()[-n:]\n",
    "ind_n = tf_neg.argsort()[-n:]\n",
    "\n",
    "plt.barh(vocab[ind_p], tf_pos[ind_p])\n",
    "plt.title(\"les \"+str(n)+\" mots les plus fréquents (positif)\")\n",
    "plt.show()\n",
    "\n",
    "plt.barh(vocab[ind_n], tf_neg[ind_n])\n",
    "plt.title(\"les \"+str(n)+\" mots les plus fréquents (négatif)\")\n",
    "plt.show()"
   ]
  },
  {
   "cell_type": "markdown",
   "metadata": {},
   "source": [
    "### Optimisation des hyper-paramètres des modèles"
   ]
  },
  {
   "cell_type": "code",
   "execution_count": 11,
   "metadata": {},
   "outputs": [],
   "source": [
    "def findBestHyperParam(name_clf, X_train, y_train,):\n",
    "    if name_clf == \"[reg_logistic]\" :\n",
    "        \n",
    "        logistic = lin.LogisticRegression()\n",
    "\n",
    "        param_grid = {'penalty':['l1', 'l2'],\n",
    "                      'C':[0.01, 0.1, 1, 10, 100],\n",
    "                      'solver':['liblinear', 'saga']}\n",
    "\n",
    "        grid = GridSearchCV(estimator=logistic,\n",
    "                            param_grid=param_grid,\n",
    "                            scoring='accuracy',\n",
    "                            verbose=1,\n",
    "                            n_jobs=-1,\n",
    "                            cv = 5)\n",
    "        \n",
    "        grid_result = grid.fit(X_train, y_train)\n",
    "\n",
    "        print('Best Score: ', grid_result.best_score_)\n",
    "        print('Best Params: ', grid_result.best_params_)\n",
    "        \n",
    "        return grid_result.best_estimator_\n",
    "    \n",
    "    elif name_clf == \"[bayes]\" :\n",
    "        \n",
    "        multi_nb = bayes.MultinomialNB()\n",
    "        \n",
    "        param_grid = {'alpha': [0,0.1,1,10,100]}\n",
    "        \n",
    "        grid = GridSearchCV(estimator=multi_nb,\n",
    "                            param_grid=param_grid,\n",
    "                            scoring='accuracy',\n",
    "                            verbose=1,\n",
    "                            n_jobs=-1,\n",
    "                            cv = 5)\n",
    "        \n",
    "        grid_result = grid.fit(X_train, y_train)\n",
    "        \n",
    "        print('Best Score: ', grid_result.best_score_)\n",
    "        print('Best Params: ', grid_result.best_params_)\n",
    "        \n",
    "        return grid_result.best_estimator_\n",
    "        \n",
    "    elif name_clf == \"[svm]\" :\n",
    "        \n",
    "        svc = svm.SVC()\n",
    "        \n",
    "        param_grid = {'C': [0.01, 0.1, 1, 10, 100], \n",
    "                      'gamma': [1,0.1,0.01,0.001],\n",
    "                      'kernel': ['rbf', 'poly', 'sigmoid']}\n",
    "        \n",
    "        grid = GridSearchCV(estimator=svc,\n",
    "                            param_grid=param_grid,\n",
    "                            scoring='accuracy',\n",
    "                            verbose=1,\n",
    "                            n_jobs=-1,\n",
    "                            cv = 5)\n",
    "        \n",
    "        grid_result = grid.fit(X_train, y_train)\n",
    "        \n",
    "        print('Best Score: ', grid_result.best_score_)\n",
    "        print('Best Params: ', grid_result.best_params_)\n",
    "        \n",
    "        return grid_result.best_estimator_\n",
    "    else :\n",
    "        print(\"Le nom du modèle ne comvient pas pour cette fonction !\")  "
   ]
  },
  {
   "cell_type": "markdown",
   "metadata": {},
   "source": [
    "Recherche du meilleur du hyper-paramètre *Multinomial Naive Bayes* :\n",
    "- alpha"
   ]
  },
  {
   "cell_type": "code",
   "execution_count": 87,
   "metadata": {},
   "outputs": [
    {
     "name": "stdout",
     "output_type": "stream",
     "text": [
      "Fitting 5 folds for each of 5 candidates, totalling 25 fits\n"
     ]
    },
    {
     "name": "stderr",
     "output_type": "stream",
     "text": [
      "[Parallel(n_jobs=-1)]: Using backend LokyBackend with 4 concurrent workers.\n"
     ]
    },
    {
     "name": "stdout",
     "output_type": "stream",
     "text": [
      "Best Score:  0.8150000000000001\n",
      "Best Params:  {'alpha': 1}\n"
     ]
    },
    {
     "name": "stderr",
     "output_type": "stream",
     "text": [
      "[Parallel(n_jobs=-1)]: Done  25 out of  25 | elapsed:    0.8s finished\n"
     ]
    }
   ],
   "source": [
    "best_multinb = findBestHyperParam(\"[bayes]\", X, labels)"
   ]
  },
  {
   "cell_type": "markdown",
   "metadata": {},
   "source": [
    "Recherche des meilleurs hyper-paramètres pour *SVM* :\n",
    "- C\n",
    "- kernel\n",
    "- gamma"
   ]
  },
  {
   "cell_type": "code",
   "execution_count": 88,
   "metadata": {},
   "outputs": [
    {
     "name": "stdout",
     "output_type": "stream",
     "text": [
      "Fitting 5 folds for each of 144 candidates, totalling 720 fits\n"
     ]
    },
    {
     "name": "stderr",
     "output_type": "stream",
     "text": [
      "[Parallel(n_jobs=-1)]: Using backend LokyBackend with 4 concurrent workers.\n",
      "[Parallel(n_jobs=-1)]: Done  42 tasks      | elapsed:  1.3min\n",
      "[Parallel(n_jobs=-1)]: Done 192 tasks      | elapsed:  5.3min\n",
      "[Parallel(n_jobs=-1)]: Done 442 tasks      | elapsed: 11.7min\n",
      "[Parallel(n_jobs=-1)]: Done 720 out of 720 | elapsed: 18.1min finished\n"
     ]
    },
    {
     "name": "stdout",
     "output_type": "stream",
     "text": [
      "Best Score:  0.8234999999999999\n",
      "Best Params:  {'C': 10, 'gamma': 0.001, 'kernel': 'rbf', 'max_iter': 5000}\n"
     ]
    }
   ],
   "source": [
    "best_svm = findBestHyperParam(\"[svm]\", X, labels)"
   ]
  },
  {
   "cell_type": "markdown",
   "metadata": {},
   "source": [
    "Recherche des meilleurs hyper-paramètres pour *Régression Logistique* :\n",
    "- C\n",
    "- penality\n",
    "- solver"
   ]
  },
  {
   "cell_type": "code",
   "execution_count": 91,
   "metadata": {},
   "outputs": [
    {
     "name": "stdout",
     "output_type": "stream",
     "text": [
      "Fitting 5 folds for each of 96 candidates, totalling 480 fits\n"
     ]
    },
    {
     "name": "stderr",
     "output_type": "stream",
     "text": [
      "[Parallel(n_jobs=-1)]: Using backend LokyBackend with 4 concurrent workers.\n",
      "[Parallel(n_jobs=-1)]: Done 200 tasks      | elapsed:   19.2s\n",
      "[Parallel(n_jobs=-1)]: Done 392 tasks      | elapsed: 16.4min\n"
     ]
    },
    {
     "ename": "KeyboardInterrupt",
     "evalue": "",
     "output_type": "error",
     "traceback": [
      "\u001b[1;31m---------------------------------------------------------------------------\u001b[0m",
      "\u001b[1;31mKeyboardInterrupt\u001b[0m                         Traceback (most recent call last)",
      "\u001b[1;32m<ipython-input-91-4856e49e4044>\u001b[0m in \u001b[0;36m<module>\u001b[1;34m\u001b[0m\n\u001b[1;32m----> 1\u001b[1;33m \u001b[0mbest_reg_logistic\u001b[0m \u001b[1;33m=\u001b[0m \u001b[0mfindBestHyperParam\u001b[0m\u001b[1;33m(\u001b[0m\u001b[1;34m\"[reg_logistic]\"\u001b[0m\u001b[1;33m,\u001b[0m \u001b[0mX\u001b[0m\u001b[1;33m,\u001b[0m \u001b[0mlabels\u001b[0m\u001b[1;33m)\u001b[0m\u001b[1;33m\u001b[0m\u001b[1;33m\u001b[0m\u001b[0m\n\u001b[0m",
      "\u001b[1;32m<ipython-input-90-02bd2d5e3e48>\u001b[0m in \u001b[0;36mfindBestHyperParam\u001b[1;34m(name_clf, X_train, y_train)\u001b[0m\n\u001b[0;32m     16\u001b[0m                             cv = 5)\n\u001b[0;32m     17\u001b[0m \u001b[1;33m\u001b[0m\u001b[0m\n\u001b[1;32m---> 18\u001b[1;33m         \u001b[0mgrid_result\u001b[0m \u001b[1;33m=\u001b[0m \u001b[0mgrid\u001b[0m\u001b[1;33m.\u001b[0m\u001b[0mfit\u001b[0m\u001b[1;33m(\u001b[0m\u001b[0mX_train\u001b[0m\u001b[1;33m,\u001b[0m \u001b[0my_train\u001b[0m\u001b[1;33m)\u001b[0m\u001b[1;33m\u001b[0m\u001b[1;33m\u001b[0m\u001b[0m\n\u001b[0m\u001b[0;32m     19\u001b[0m \u001b[1;33m\u001b[0m\u001b[0m\n\u001b[0;32m     20\u001b[0m         \u001b[0mprint\u001b[0m\u001b[1;33m(\u001b[0m\u001b[1;34m'Best Score: '\u001b[0m\u001b[1;33m,\u001b[0m \u001b[0mgrid_result\u001b[0m\u001b[1;33m.\u001b[0m\u001b[0mbest_score_\u001b[0m\u001b[1;33m)\u001b[0m\u001b[1;33m\u001b[0m\u001b[1;33m\u001b[0m\u001b[0m\n",
      "\u001b[1;32m~\\anaconda3\\lib\\site-packages\\sklearn\\model_selection\\_search.py\u001b[0m in \u001b[0;36mfit\u001b[1;34m(self, X, y, groups, **fit_params)\u001b[0m\n\u001b[0;32m    708\u001b[0m                 \u001b[1;32mreturn\u001b[0m \u001b[0mresults\u001b[0m\u001b[1;33m\u001b[0m\u001b[1;33m\u001b[0m\u001b[0m\n\u001b[0;32m    709\u001b[0m \u001b[1;33m\u001b[0m\u001b[0m\n\u001b[1;32m--> 710\u001b[1;33m             \u001b[0mself\u001b[0m\u001b[1;33m.\u001b[0m\u001b[0m_run_search\u001b[0m\u001b[1;33m(\u001b[0m\u001b[0mevaluate_candidates\u001b[0m\u001b[1;33m)\u001b[0m\u001b[1;33m\u001b[0m\u001b[1;33m\u001b[0m\u001b[0m\n\u001b[0m\u001b[0;32m    711\u001b[0m \u001b[1;33m\u001b[0m\u001b[0m\n\u001b[0;32m    712\u001b[0m         \u001b[1;31m# For multi-metric evaluation, store the best_index_, best_params_ and\u001b[0m\u001b[1;33m\u001b[0m\u001b[1;33m\u001b[0m\u001b[1;33m\u001b[0m\u001b[0m\n",
      "\u001b[1;32m~\\anaconda3\\lib\\site-packages\\sklearn\\model_selection\\_search.py\u001b[0m in \u001b[0;36m_run_search\u001b[1;34m(self, evaluate_candidates)\u001b[0m\n\u001b[0;32m   1149\u001b[0m     \u001b[1;32mdef\u001b[0m \u001b[0m_run_search\u001b[0m\u001b[1;33m(\u001b[0m\u001b[0mself\u001b[0m\u001b[1;33m,\u001b[0m \u001b[0mevaluate_candidates\u001b[0m\u001b[1;33m)\u001b[0m\u001b[1;33m:\u001b[0m\u001b[1;33m\u001b[0m\u001b[1;33m\u001b[0m\u001b[0m\n\u001b[0;32m   1150\u001b[0m         \u001b[1;34m\"\"\"Search all candidates in param_grid\"\"\"\u001b[0m\u001b[1;33m\u001b[0m\u001b[1;33m\u001b[0m\u001b[0m\n\u001b[1;32m-> 1151\u001b[1;33m         \u001b[0mevaluate_candidates\u001b[0m\u001b[1;33m(\u001b[0m\u001b[0mParameterGrid\u001b[0m\u001b[1;33m(\u001b[0m\u001b[0mself\u001b[0m\u001b[1;33m.\u001b[0m\u001b[0mparam_grid\u001b[0m\u001b[1;33m)\u001b[0m\u001b[1;33m)\u001b[0m\u001b[1;33m\u001b[0m\u001b[1;33m\u001b[0m\u001b[0m\n\u001b[0m\u001b[0;32m   1152\u001b[0m \u001b[1;33m\u001b[0m\u001b[0m\n\u001b[0;32m   1153\u001b[0m \u001b[1;33m\u001b[0m\u001b[0m\n",
      "\u001b[1;32m~\\anaconda3\\lib\\site-packages\\sklearn\\model_selection\\_search.py\u001b[0m in \u001b[0;36mevaluate_candidates\u001b[1;34m(candidate_params)\u001b[0m\n\u001b[0;32m    687\u001b[0m                                \u001b[1;32mfor\u001b[0m \u001b[0mparameters\u001b[0m\u001b[1;33m,\u001b[0m \u001b[1;33m(\u001b[0m\u001b[0mtrain\u001b[0m\u001b[1;33m,\u001b[0m \u001b[0mtest\u001b[0m\u001b[1;33m)\u001b[0m\u001b[1;33m\u001b[0m\u001b[1;33m\u001b[0m\u001b[0m\n\u001b[0;32m    688\u001b[0m                                in product(candidate_params,\n\u001b[1;32m--> 689\u001b[1;33m                                           cv.split(X, y, groups)))\n\u001b[0m\u001b[0;32m    690\u001b[0m \u001b[1;33m\u001b[0m\u001b[0m\n\u001b[0;32m    691\u001b[0m                 \u001b[1;32mif\u001b[0m \u001b[0mlen\u001b[0m\u001b[1;33m(\u001b[0m\u001b[0mout\u001b[0m\u001b[1;33m)\u001b[0m \u001b[1;33m<\u001b[0m \u001b[1;36m1\u001b[0m\u001b[1;33m:\u001b[0m\u001b[1;33m\u001b[0m\u001b[1;33m\u001b[0m\u001b[0m\n",
      "\u001b[1;32m~\\anaconda3\\lib\\site-packages\\joblib\\parallel.py\u001b[0m in \u001b[0;36m__call__\u001b[1;34m(self, iterable)\u001b[0m\n\u001b[0;32m   1015\u001b[0m \u001b[1;33m\u001b[0m\u001b[0m\n\u001b[0;32m   1016\u001b[0m             \u001b[1;32mwith\u001b[0m \u001b[0mself\u001b[0m\u001b[1;33m.\u001b[0m\u001b[0m_backend\u001b[0m\u001b[1;33m.\u001b[0m\u001b[0mretrieval_context\u001b[0m\u001b[1;33m(\u001b[0m\u001b[1;33m)\u001b[0m\u001b[1;33m:\u001b[0m\u001b[1;33m\u001b[0m\u001b[1;33m\u001b[0m\u001b[0m\n\u001b[1;32m-> 1017\u001b[1;33m                 \u001b[0mself\u001b[0m\u001b[1;33m.\u001b[0m\u001b[0mretrieve\u001b[0m\u001b[1;33m(\u001b[0m\u001b[1;33m)\u001b[0m\u001b[1;33m\u001b[0m\u001b[1;33m\u001b[0m\u001b[0m\n\u001b[0m\u001b[0;32m   1018\u001b[0m             \u001b[1;31m# Make sure that we get a last message telling us we are done\u001b[0m\u001b[1;33m\u001b[0m\u001b[1;33m\u001b[0m\u001b[1;33m\u001b[0m\u001b[0m\n\u001b[0;32m   1019\u001b[0m             \u001b[0melapsed_time\u001b[0m \u001b[1;33m=\u001b[0m \u001b[0mtime\u001b[0m\u001b[1;33m.\u001b[0m\u001b[0mtime\u001b[0m\u001b[1;33m(\u001b[0m\u001b[1;33m)\u001b[0m \u001b[1;33m-\u001b[0m \u001b[0mself\u001b[0m\u001b[1;33m.\u001b[0m\u001b[0m_start_time\u001b[0m\u001b[1;33m\u001b[0m\u001b[1;33m\u001b[0m\u001b[0m\n",
      "\u001b[1;32m~\\anaconda3\\lib\\site-packages\\joblib\\parallel.py\u001b[0m in \u001b[0;36mretrieve\u001b[1;34m(self)\u001b[0m\n\u001b[0;32m    907\u001b[0m             \u001b[1;32mtry\u001b[0m\u001b[1;33m:\u001b[0m\u001b[1;33m\u001b[0m\u001b[1;33m\u001b[0m\u001b[0m\n\u001b[0;32m    908\u001b[0m                 \u001b[1;32mif\u001b[0m \u001b[0mgetattr\u001b[0m\u001b[1;33m(\u001b[0m\u001b[0mself\u001b[0m\u001b[1;33m.\u001b[0m\u001b[0m_backend\u001b[0m\u001b[1;33m,\u001b[0m \u001b[1;34m'supports_timeout'\u001b[0m\u001b[1;33m,\u001b[0m \u001b[1;32mFalse\u001b[0m\u001b[1;33m)\u001b[0m\u001b[1;33m:\u001b[0m\u001b[1;33m\u001b[0m\u001b[1;33m\u001b[0m\u001b[0m\n\u001b[1;32m--> 909\u001b[1;33m                     \u001b[0mself\u001b[0m\u001b[1;33m.\u001b[0m\u001b[0m_output\u001b[0m\u001b[1;33m.\u001b[0m\u001b[0mextend\u001b[0m\u001b[1;33m(\u001b[0m\u001b[0mjob\u001b[0m\u001b[1;33m.\u001b[0m\u001b[0mget\u001b[0m\u001b[1;33m(\u001b[0m\u001b[0mtimeout\u001b[0m\u001b[1;33m=\u001b[0m\u001b[0mself\u001b[0m\u001b[1;33m.\u001b[0m\u001b[0mtimeout\u001b[0m\u001b[1;33m)\u001b[0m\u001b[1;33m)\u001b[0m\u001b[1;33m\u001b[0m\u001b[1;33m\u001b[0m\u001b[0m\n\u001b[0m\u001b[0;32m    910\u001b[0m                 \u001b[1;32melse\u001b[0m\u001b[1;33m:\u001b[0m\u001b[1;33m\u001b[0m\u001b[1;33m\u001b[0m\u001b[0m\n\u001b[0;32m    911\u001b[0m                     \u001b[0mself\u001b[0m\u001b[1;33m.\u001b[0m\u001b[0m_output\u001b[0m\u001b[1;33m.\u001b[0m\u001b[0mextend\u001b[0m\u001b[1;33m(\u001b[0m\u001b[0mjob\u001b[0m\u001b[1;33m.\u001b[0m\u001b[0mget\u001b[0m\u001b[1;33m(\u001b[0m\u001b[1;33m)\u001b[0m\u001b[1;33m)\u001b[0m\u001b[1;33m\u001b[0m\u001b[1;33m\u001b[0m\u001b[0m\n",
      "\u001b[1;32m~\\anaconda3\\lib\\site-packages\\joblib\\_parallel_backends.py\u001b[0m in \u001b[0;36mwrap_future_result\u001b[1;34m(future, timeout)\u001b[0m\n\u001b[0;32m    560\u001b[0m         AsyncResults.get from multiprocessing.\"\"\"\n\u001b[0;32m    561\u001b[0m         \u001b[1;32mtry\u001b[0m\u001b[1;33m:\u001b[0m\u001b[1;33m\u001b[0m\u001b[1;33m\u001b[0m\u001b[0m\n\u001b[1;32m--> 562\u001b[1;33m             \u001b[1;32mreturn\u001b[0m \u001b[0mfuture\u001b[0m\u001b[1;33m.\u001b[0m\u001b[0mresult\u001b[0m\u001b[1;33m(\u001b[0m\u001b[0mtimeout\u001b[0m\u001b[1;33m=\u001b[0m\u001b[0mtimeout\u001b[0m\u001b[1;33m)\u001b[0m\u001b[1;33m\u001b[0m\u001b[1;33m\u001b[0m\u001b[0m\n\u001b[0m\u001b[0;32m    563\u001b[0m         \u001b[1;32mexcept\u001b[0m \u001b[0mLokyTimeoutError\u001b[0m\u001b[1;33m:\u001b[0m\u001b[1;33m\u001b[0m\u001b[1;33m\u001b[0m\u001b[0m\n\u001b[0;32m    564\u001b[0m             \u001b[1;32mraise\u001b[0m \u001b[0mTimeoutError\u001b[0m\u001b[1;33m(\u001b[0m\u001b[1;33m)\u001b[0m\u001b[1;33m\u001b[0m\u001b[1;33m\u001b[0m\u001b[0m\n",
      "\u001b[1;32m~\\anaconda3\\lib\\concurrent\\futures\\_base.py\u001b[0m in \u001b[0;36mresult\u001b[1;34m(self, timeout)\u001b[0m\n\u001b[0;32m    428\u001b[0m                 \u001b[1;32mreturn\u001b[0m \u001b[0mself\u001b[0m\u001b[1;33m.\u001b[0m\u001b[0m__get_result\u001b[0m\u001b[1;33m(\u001b[0m\u001b[1;33m)\u001b[0m\u001b[1;33m\u001b[0m\u001b[1;33m\u001b[0m\u001b[0m\n\u001b[0;32m    429\u001b[0m \u001b[1;33m\u001b[0m\u001b[0m\n\u001b[1;32m--> 430\u001b[1;33m             \u001b[0mself\u001b[0m\u001b[1;33m.\u001b[0m\u001b[0m_condition\u001b[0m\u001b[1;33m.\u001b[0m\u001b[0mwait\u001b[0m\u001b[1;33m(\u001b[0m\u001b[0mtimeout\u001b[0m\u001b[1;33m)\u001b[0m\u001b[1;33m\u001b[0m\u001b[1;33m\u001b[0m\u001b[0m\n\u001b[0m\u001b[0;32m    431\u001b[0m \u001b[1;33m\u001b[0m\u001b[0m\n\u001b[0;32m    432\u001b[0m             \u001b[1;32mif\u001b[0m \u001b[0mself\u001b[0m\u001b[1;33m.\u001b[0m\u001b[0m_state\u001b[0m \u001b[1;32min\u001b[0m \u001b[1;33m[\u001b[0m\u001b[0mCANCELLED\u001b[0m\u001b[1;33m,\u001b[0m \u001b[0mCANCELLED_AND_NOTIFIED\u001b[0m\u001b[1;33m]\u001b[0m\u001b[1;33m:\u001b[0m\u001b[1;33m\u001b[0m\u001b[1;33m\u001b[0m\u001b[0m\n",
      "\u001b[1;32m~\\anaconda3\\lib\\threading.py\u001b[0m in \u001b[0;36mwait\u001b[1;34m(self, timeout)\u001b[0m\n\u001b[0;32m    294\u001b[0m         \u001b[1;32mtry\u001b[0m\u001b[1;33m:\u001b[0m    \u001b[1;31m# restore state no matter what (e.g., KeyboardInterrupt)\u001b[0m\u001b[1;33m\u001b[0m\u001b[1;33m\u001b[0m\u001b[0m\n\u001b[0;32m    295\u001b[0m             \u001b[1;32mif\u001b[0m \u001b[0mtimeout\u001b[0m \u001b[1;32mis\u001b[0m \u001b[1;32mNone\u001b[0m\u001b[1;33m:\u001b[0m\u001b[1;33m\u001b[0m\u001b[1;33m\u001b[0m\u001b[0m\n\u001b[1;32m--> 296\u001b[1;33m                 \u001b[0mwaiter\u001b[0m\u001b[1;33m.\u001b[0m\u001b[0macquire\u001b[0m\u001b[1;33m(\u001b[0m\u001b[1;33m)\u001b[0m\u001b[1;33m\u001b[0m\u001b[1;33m\u001b[0m\u001b[0m\n\u001b[0m\u001b[0;32m    297\u001b[0m                 \u001b[0mgotit\u001b[0m \u001b[1;33m=\u001b[0m \u001b[1;32mTrue\u001b[0m\u001b[1;33m\u001b[0m\u001b[1;33m\u001b[0m\u001b[0m\n\u001b[0;32m    298\u001b[0m             \u001b[1;32melse\u001b[0m\u001b[1;33m:\u001b[0m\u001b[1;33m\u001b[0m\u001b[1;33m\u001b[0m\u001b[0m\n",
      "\u001b[1;31mKeyboardInterrupt\u001b[0m: "
     ]
    }
   ],
   "source": [
    "best_reg_logistic = findBestHyperParam(\"[reg_logistic]\", X, labels)"
   ]
  },
  {
   "cell_type": "markdown",
   "metadata": {},
   "source": [
    "## Campagne d'évaluation et comparaison de 3 modèles de classification"
   ]
  },
  {
   "cell_type": "markdown",
   "metadata": {},
   "source": [
    "Cette campagne d'évaluation va consister à choisir les meilleurs paramètres pour déterminer la classe d'un avis.\n",
    "\n",
    "Les paramètres qui seront modulés :\n",
    "- avec ou sans Stopwords\n",
    "- Unigram/Bigram/Trigram\n",
    "- Stemmatisation/Lemmatisation"
   ]
  },
  {
   "cell_type": "code",
   "execution_count": 120,
   "metadata": {},
   "outputs": [],
   "source": [
    "def campagne_evaluation(corpus, labels, stop_words, ngram, classifieur, clf):\n",
    "\n",
    "    tic = time.perf_counter() \n",
    "    \n",
    "    ordinates = [[] for i in range(12)]\n",
    "    abscissas = [[] for i in range(12)]\n",
    "    cpt = 0\n",
    "\n",
    "    for tab in corpus :\n",
    "        for c in tab :\n",
    "            abscissas[cpt] = np.linspace(20, get_len_vocab(c, ngram), 20, dtype = int)\n",
    "            abscissas[cpt+1] = np.linspace(20, get_len_vocab(c, ngram), 20, dtype = int)\n",
    "            for step in abscissas[cpt]:\n",
    "                vectorizer = CountVectorizer(max_features=step, ngram_range=(1,ngram), min_df = 2)\n",
    "                tf_idf = TfidfVectorizer(max_features=step, ngram_range=(1,ngram))\n",
    "                X_v = vectorizer.fit_transform(c)\n",
    "                X_t = tf_idf.fit_transform(c)\n",
    "                ordinates[cpt].append(cross_validation(clf, X_v, labels))\n",
    "                ordinates[cpt+1].append(cross_validation(clf, X_t, labels))\n",
    "            cpt+=2\n",
    "             \n",
    "    print(\"Temps d'éxécution : \"+str(round(time.perf_counter()-tic, 2))+\" secondes\")\n",
    "    \n",
    "    labels = ['TF','TFIDF',\n",
    "              'TF-LEMA','TFIDF-LEMA', \n",
    "              'TF-STEMA','TFIDF-STEMA',\n",
    "              'TF-STPW','TFIDF-STPW',\n",
    "              'TF-STPW-LEMA','TFIDF-STPW-LEMA',\n",
    "              'TF-STPW-STEMA','TFIDF-STPW-STEMA']\n",
    "    \n",
    "    for j in range(12) :\n",
    "        plt.plot(abscissas[j], ordinates[j], label=labels[j])\n",
    "        plt.legend()\n",
    "        \n",
    "    plt.title(classifieur + \" - Accuracy en fonction du nb de mots conservés : \"+mot_gram(ngram))\n",
    "    plt.xlabel(\"Nombre de mots conservés\")\n",
    "    plt.ylabel(\"Accuracy\")\n",
    "    plt.show()\n",
    "    \n",
    "    ind = [np.argmax(o) for o in ordinates]\n",
    "    max_gram = [abscissas[_][ind[_]] for _ in range(12)] \n",
    "\n",
    "    for _ in range(12):\n",
    "        print(\"Meilleur score <\"+str(ordinates[_][ind[_]])+\"> pour\",labels[_],\"avec \"+(str(max_gram[_]))+\" \"+mot_gram(ngram))\n",
    "\n",
    "    return max_gram"
   ]
  },
  {
   "cell_type": "code",
   "execution_count": 108,
   "metadata": {},
   "outputs": [],
   "source": [
    "def cross_validation(clf, X, y, n_splits=5):\n",
    "    scores = []\n",
    "    skf = StratifiedKFold(n_splits=n_splits, shuffle=True)\n",
    "    for train_index, test_index in skf.split(X, y):\n",
    "        X_train, X_test = X[train_index], X[test_index]\n",
    "        y_train, y_test = y[train_index], y[test_index]\n",
    "        clf.fit(X_train, y_train)\n",
    "        scores.append(clf.score(X_test,y_test))\n",
    "        \n",
    "    return sum(scores)/n_splits"
   ]
  },
  {
   "cell_type": "code",
   "execution_count": 109,
   "metadata": {},
   "outputs": [],
   "source": [
    "def get_len_vocab(corpus, ngram):\n",
    "    vectorizer = CountVectorizer(ngram_range = (1,ngram))\n",
    "    vectorizer.fit_transform(corpus)\n",
    "    return len(vectorizer.get_feature_names())"
   ]
  },
  {
   "cell_type": "code",
   "execution_count": 110,
   "metadata": {},
   "outputs": [],
   "source": [
    "def mot_gram(ngram):\n",
    "    if ngram == 1:\n",
    "        return \"unigrams\"\n",
    "    elif ngram == 2:\n",
    "        return \"bigrams\"\n",
    "    elif ngram == 3:\n",
    "        return \"trigrams\"\n",
    "    else:\n",
    "        return \"ngrams\""
   ]
  },
  {
   "cell_type": "markdown",
   "metadata": {},
   "source": [
    "### 1-Naive Bayes"
   ]
  },
  {
   "cell_type": "markdown",
   "metadata": {},
   "source": [
    "UNIGRAM"
   ]
  },
  {
   "cell_type": "code",
   "execution_count": 121,
   "metadata": {},
   "outputs": [
    {
     "name": "stdout",
     "output_type": "stream",
     "text": [
      "Temps d'éxécution : 129.17 secondes\n"
     ]
    },
    {
     "data": {
      "image/png": "[encoded data removed]",
      "text/plain": [
       "<Figure size 432x288 with 1 Axes>"
      ]
     },
     "metadata": {
      "needs_background": "light"
     },
     "output_type": "display_data"
    },
    {
     "name": "stdout",
     "output_type": "stream",
     "text": [
      "Meilleur score <0.8300000000000001> pour TF avec 30932 unigrams\n",
      "Meilleur score <0.8345> pour TFIDF avec 22345 unigrams\n",
      "Meilleur score <0.8254999999999999> pour TF-LEMA avec 19178 unigrams\n",
      "Meilleur score <0.829> pour TFIDF-LEMA avec 17810 unigrams\n",
      "Meilleur score <0.8225> pour TF-STEMA avec 11165 unigrams\n",
      "Meilleur score <0.8295000000000001> pour TFIDF-STEMA avec 12178 unigrams\n",
      "Meilleur score <0.827> pour TF-STPW avec 6845 unigrams\n",
      "Meilleur score <0.8300000000000001> pour TFIDF-STPW avec 25615 unigrams\n",
      "Meilleur score <0.8185> pour TF-STPW-LEMA avec 10879 unigrams\n",
      "Meilleur score <0.827> pour TFIDF-STPW-LEMA avec 13594 unigrams\n",
      "Meilleur score <0.8200000000000001> pour TF-STPW-STEMA avec 11068 unigrams\n",
      "Meilleur score <0.8234999999999999> pour TFIDF-STPW-STEMA avec 8055 unigrams\n"
     ]
    }
   ],
   "source": [
    "bayes1 = campagne_evaluation(all_corpus, np.array(labels), fusion_stopwords, 1, \"[MultiNBayes]\",best_multinb)"
   ]
  },
  {
   "cell_type": "markdown",
   "metadata": {},
   "source": [
    "BIGRAM"
   ]
  },
  {
   "cell_type": "code",
   "execution_count": 122,
   "metadata": {},
   "outputs": [
    {
     "name": "stdout",
     "output_type": "stream",
     "text": [
      "Temps d'éxécution : 582.81 secondes\n"
     ]
    },
    {
     "data": {
      "image/png": "[encoded data removed]",
      "text/plain": [
       "<Figure size 432x288 with 1 Axes>"
      ]
     },
     "metadata": {
      "needs_background": "light"
     },
     "output_type": "display_data"
    },
    {
     "name": "stdout",
     "output_type": "stream",
     "text": [
      "Meilleur score <0.849> pour TF avec 157584 bigrams\n",
      "Meilleur score <0.842> pour TFIDF avec 210105 bigrams\n",
      "Meilleur score <0.845> pour TF-LEMA avec 71381 bigrams\n",
      "Meilleur score <0.8345> pour TFIDF-LEMA avec 261679 bigrams\n",
      "Meilleur score <0.8494999999999999> pour TF-STEMA avec 162385 bigrams\n",
      "Meilleur score <0.8390000000000001> pour TFIDF-STEMA avec 23215 bigrams\n",
      "Meilleur score <0.829> pour TF-STPW avec 215162 bigrams\n",
      "Meilleur score <0.8300000000000001> pour TFIDF-STPW avec 95638 bigrams\n",
      "Meilleur score <0.8300000000000001> pour TF-STPW-LEMA avec 408087 bigrams\n",
      "Meilleur score <0.8204999999999998> pour TFIDF-STPW-LEMA avec 42974 bigrams\n",
      "Meilleur score <0.8275> pour TF-STPW-STEMA avec 274989 bigrams\n",
      "Meilleur score <0.8240000000000001> pour TFIDF-STPW-STEMA avec 42323 bigrams\n"
     ]
    }
   ],
   "source": [
    "bayes2 = campagne_evaluation(all_corpus, np.array(labels), fusion_stopwords, 2, \"[MultiNBayes]\",best_multinb)"
   ]
  },
  {
   "cell_type": "markdown",
   "metadata": {},
   "source": [
    "TRIGRAM"
   ]
  },
  {
   "cell_type": "code",
   "execution_count": 123,
   "metadata": {},
   "outputs": [
    {
     "name": "stdout",
     "output_type": "stream",
     "text": [
      "Temps d'éxécution : 1189.08 secondes\n"
     ]
    },
    {
     "data": {
      "image/png": "[encoded data removed]",
      "text/plain": [
       "<Figure size 432x288 with 1 Axes>"
      ]
     },
     "metadata": {
      "needs_background": "light"
     },
     "output_type": "display_data"
    },
    {
     "name": "stdout",
     "output_type": "stream",
     "text": [
      "Meilleur score <0.8475000000000001> pour TF avec 58505 trigrams\n",
      "Meilleur score <0.8394999999999999> pour TFIDF avec 58505 trigrams\n",
      "Meilleur score <0.844> pour TF-LEMA avec 334748 trigrams\n",
      "Meilleur score <0.8400000000000001> pour TFIDF-LEMA avec 55808 trigrams\n",
      "Meilleur score <0.8435> pour TF-STEMA avec 110446 trigrams\n",
      "Meilleur score <0.8394999999999999> pour TFIDF-STEMA avec 331300 trigrams\n",
      "Meilleur score <0.8275> pour TF-STPW avec 203940 trigrams\n",
      "Meilleur score <0.8310000000000001> pour TFIDF-STPW avec 51000 trigrams\n",
      "Meilleur score <0.8274999999999999> pour TF-STPW-LEMA avec 620557 trigrams\n",
      "Meilleur score <0.817> pour TFIDF-STPW-LEMA avec 47753 trigrams\n",
      "Meilleur score <0.826> pour TF-STPW-STEMA avec 529087 trigrams\n",
      "Meilleur score <0.8195> pour TFIDF-STPW-STEMA avec 48117 trigrams\n"
     ]
    }
   ],
   "source": [
    "bayes3 = campagne_evaluation(all_corpus, np.array(labels), fusion_stopwords, 3, \"[MultiNBayes]\",best_multinb)"
   ]
  },
  {
   "cell_type": "markdown",
   "metadata": {},
   "source": [
    "### 2- SVM"
   ]
  },
  {
   "cell_type": "markdown",
   "metadata": {},
   "source": [
    "UNIGRAM"
   ]
  },
  {
   "cell_type": "code",
   "execution_count": null,
   "metadata": {
    "scrolled": false
   },
   "outputs": [],
   "source": [
    "svm1 = campagne_evaluation(all_corpus, np.array(labels), fusion_stopwords, 1, \"[SVM]\",best_svm)"
   ]
  },
  {
   "cell_type": "markdown",
   "metadata": {},
   "source": [
    "BIGRAM"
   ]
  },
  {
   "cell_type": "code",
   "execution_count": null,
   "metadata": {},
   "outputs": [],
   "source": [
    "svm2 = campagne_evaluation(all_corpus, np.array(labels), fusion_stopwords, 2, \"[SVM]\",best_svm)"
   ]
  },
  {
   "cell_type": "markdown",
   "metadata": {},
   "source": [
    "TRIGRAM"
   ]
  },
  {
   "cell_type": "code",
   "execution_count": null,
   "metadata": {},
   "outputs": [],
   "source": [
    "svm3 = campagne_evaluation(all_corpus, np.array(labels), fusion_stopwords, 3, \"[SVM]\",best_svm)"
   ]
  },
  {
   "cell_type": "markdown",
   "metadata": {},
   "source": [
    "### 3- Régression Logistique"
   ]
  },
  {
   "cell_type": "markdown",
   "metadata": {},
   "source": [
    "UNIGRAM"
   ]
  },
  {
   "cell_type": "code",
   "execution_count": null,
   "metadata": {},
   "outputs": [],
   "source": [
    "logistic1 = campagne_evaluation(corpus, np.array(labels), fusion_stopwords, 1, \"[Reg_Logistic]\",best)"
   ]
  },
  {
   "cell_type": "markdown",
   "metadata": {},
   "source": [
    "BIGRAM"
   ]
  },
  {
   "cell_type": "code",
   "execution_count": null,
   "metadata": {},
   "outputs": [],
   "source": [
    "logistic2 = campagne_evaluation(corpus, np.array(labels), fusion_stopwords, 2, \"[Reg_Logistic]\")"
   ]
  },
  {
   "cell_type": "markdown",
   "metadata": {},
   "source": [
    "TRIGRAM"
   ]
  },
  {
   "cell_type": "code",
   "execution_count": null,
   "metadata": {},
   "outputs": [],
   "source": [
    "logistic3 = campagne_evaluation(corpus, np.array(labels), fusion_stopwords, 3, \"[Reg_Logistic]\")"
   ]
  },
  {
   "cell_type": "markdown",
   "metadata": {},
   "source": [
    "## Génération des prédictions pour le dataset de test"
   ]
  },
  {
   "cell_type": "markdown",
   "metadata": {},
   "source": [
    "Selon la campagne d'évaluation, ..."
   ]
  },
  {
   "cell_type": "code",
   "execution_count": 22,
   "metadata": {},
   "outputs": [],
   "source": [
    "def generate_file_predict_test(predictions,nom_clf, tfidf, sw, ngram) :\n",
    "    filename = \"predict_\"+nom_clf+\"_\"+tfidf+\"_\"+sw+\"_\"+ngram+\"gram\"+\".txt\"\n",
    "    \n",
    "    with open(filename, \"w\") as f:\n",
    "        for p in predictions :\n",
    "            f.write(\"%s\\n\" % str(p))"
   ]
  },
  {
   "cell_type": "markdown",
   "metadata": {},
   "source": [
    "On transforme le corpus de test en matrice sparse à partir des mots du vocabulaire contenus dans le vectorizer"
   ]
  },
  {
   "cell_type": "code",
   "execution_count": 21,
   "metadata": {},
   "outputs": [
    {
     "data": {
      "text/plain": [
       "'best_clf = lin.LogisticRegression(max_iter = 1000)\\n\\nbest_vectorizer = CountVectorizer(max_features=lin2[2], ngram_range=(1,2))\\nX = best_vectorizer.fit_transform(corpus_train)\\nbest_clf.fit(X,labels_train)\\n\\nX_test = best_vectorizer.transform(corpus_test)\\npredictions = best_clf.predict(X_test)\\ngenerate_file_test(predictions,\"reglog\",\"tf\",\"sw\",\"bigram\")'"
      ]
     },
     "execution_count": 21,
     "metadata": {},
     "output_type": "execute_result"
    }
   ],
   "source": [
    "\"\"\"best_clf = lin.LogisticRegression(max_iter = 1000)\n",
    "\n",
    "best_vectorizer = CountVectorizer(max_features=lin2[2], ngram_range=(1,2))\n",
    "X = best_vectorizer.fit_transform(corpus_train)\n",
    "best_clf.fit(X,labels_train)\n",
    "\n",
    "X_test = best_vectorizer.transform(corpus_test)\n",
    "predictions = best_clf.predict(X_test)\n",
    "generate_file_test(predictions,\"reglog\",\"tf\",\"sw\",\"bigram\")\"\"\""
   ]
  },
  {
   "cell_type": "markdown",
   "metadata": {},
   "source": [
    "# Conclusion"
   ]
  },
  {
   "cell_type": "raw",
   "metadata": {},
   "source": [
    "zefezzfezfezfezfez\n",
    "zfezfezezzfzefzfez\n",
    "zefzeezezfzefezfez"
   ]
  }
 ],
 "metadata": {
  "kernelspec": {
   "display_name": "Python 3",
   "language": "python",
   "name": "python3"
  },
  "language_info": {
   "codemirror_mode": {
    "name": "ipython",
    "version": 3
   },
   "file_extension": ".py",
   "mimetype": "text/x-python",
   "name": "python",
   "nbconvert_exporter": "python",
   "pygments_lexer": "ipython3",
   "version": "3.7.6"
  }
 },
 "nbformat": 4,
 "nbformat_minor": 4
}
