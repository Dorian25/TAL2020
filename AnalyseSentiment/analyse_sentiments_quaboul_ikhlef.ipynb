{
 "cells": [
  {
   "cell_type": "markdown",
   "metadata": {},
   "source": [
    "<font color='red'>QUABOUL Dorian - 3872944</font><br>\n",
    "<font color='red'>IKHLEF MOUHAMAD - 3870476</font>"
   ]
  },
  {
   "cell_type": "markdown",
   "metadata": {},
   "source": [
    "### Tâche 2 : Analyse de sentiments, représentations des textes"
   ]
  },
  {
   "cell_type": "raw",
   "metadata": {},
   "source": []
  },
  {
   "cell_type": "code",
   "execution_count": 2,
   "metadata": {},
   "outputs": [],
   "source": [
    "from os import listdir\n",
    "from os.path import isfile, join\n",
    "import re\n",
    "import string\n",
    "\n",
    "from nltk.corpus import stopwords\n",
    "from nltk.stem.snowball import SnowballStemmer\n",
    "from nltk.stem import WordNetLemmatizer\n",
    "from sklearn.feature_extraction.text import CountVectorizer, TfidfVectorizer\n",
    "\n",
    "#from wordcloud import WordCloud\n",
    "import time\n",
    "import unicodedata\n",
    "\n",
    "import numpy as np\n",
    "import matplotlib.pyplot as plt\n",
    "\n",
    "import sklearn.naive_bayes as bayes\n",
    "from sklearn import svm, linear_model as lin\n",
    "from sklearn.model_selection import cross_val_score, StratifiedKFold\n",
    "from sklearn.metrics import accuracy_score"
   ]
  },
  {
   "cell_type": "markdown",
   "metadata": {},
   "source": [
    "Lecture de l'ensemble de revues étiquetées (positifs et négatifs)."
   ]
  },
  {
   "cell_type": "code",
   "execution_count": 3,
   "metadata": {},
   "outputs": [],
   "source": [
    "posfiles = [f for f in listdir(\"./movies1000/pos\") if isfile(join(\"./movies1000/pos\", f))]\n",
    "negfiles = [f for f in listdir(\"./movies1000/neg\") if isfile(join(\"./movies1000/neg\", f))]\n",
    "\n",
    "pos = [open(\"./movies1000/pos/\"+f).read() for f in posfiles]\n",
    "lab_pos = [1 for _ in range(len(pos))]\n",
    "neg = [open(\"./movies1000/neg/\"+f).read() for f in negfiles]\n",
    "lab_neg = [-1 for _ in range(len(neg))]"
   ]
  },
  {
   "cell_type": "code",
   "execution_count": 4,
   "metadata": {},
   "outputs": [
    {
     "name": "stdout",
     "output_type": "stream",
     "text": [
      "Nombre de revues (positives) 1000\n",
      "Nombre de revues (negatives) 1000\n"
     ]
    }
   ],
   "source": [
    "print(\"Nombre de revues (positives)\",str(len(lab_pos)))\n",
    "print(\"Nombre de revues (negatives)\",str(len(lab_neg)))"
   ]
  },
  {
   "cell_type": "code",
   "execution_count": 5,
   "metadata": {},
   "outputs": [
    {
     "name": "stdout",
     "output_type": "stream",
     "text": [
      "you've got mail works alot better than it deserves to . \n",
      "in order to make the film a success , all they had to do was cast two extremely popular and attractive stars , have them share the screen for about two hours and then collect the profits . \n",
      "no real acting was involved and there is not an original or inventive bone in it's body ( it's basically a complete re-shoot of the shop around the corner , only adding a few modern twists ) . \n",
      "essentially , it goes against and defies all concepts of good contemporary filmmaking . \n",
      "it's overly sentimental and at times terribly mushy , not to mention very manipulative . \n",
      "but oh , how enjoyable that manipulation is . \n",
      "but there must be something other than the casting and manipulation that makes the movie work as well as it does , because i absolutely hated the previous ryan/hanks teaming , sleepless in seattle . \n",
      "it couldn't have been the directing , because both films were helmed by the same woman . \n",
      "i haven't quite yet figured out what i liked so much about you've got mail , but then again , is that really important ? \n",
      "if you like something so much , why even question it ? \n",
      "again , the storyline is as cliched as they come . \n",
      "tom hanks plays joe fox , the insanely likeable owner of a discount book chain and meg ryan plays kathleen kelley , the even more insanely likeable proprietor of a family-run children's book shop called , in a nice homage , the shop around the corner . \n",
      "fox and kelley soon become bitter rivals because the new fox books store is opening up right across the block from the small business . \n",
      "little do they know , they are already in love with each other over the internet , only neither party knows the other person's true identity . \n",
      "the rest of the story isn't important because all it does is serve as a mere backdrop for the two stars to share the screen . \n",
      "sure , there are some mildly interesting subplots , but they all fail in comparison to the utter cuteness of the main relationship . \n",
      "all of this , of course , leads up to the predictable climax . \n",
      "but as foreseeable as the ending is , it's so damn cute and well-done that i doubt any movie in the entire year contains a scene the evokes as much pure joy as this part does . \n",
      "when ryan discovers the true identity of her online love , i was filled with such , for lack of a better word , happiness that for the first time all year , i actually left the theater smiling . \n",
      "\n"
     ]
    }
   ],
   "source": [
    "print(pos[2])"
   ]
  },
  {
   "cell_type": "markdown",
   "metadata": {},
   "source": [
    "La fonction de preprocessing qui permet de nettoyer et d'épurer une chaîne de caractères"
   ]
  },
  {
   "cell_type": "code",
   "execution_count": 6,
   "metadata": {},
   "outputs": [],
   "source": [
    "def preprocess(s):\n",
    "    # source : http://www-connex.lip6.fr/~guigue/wikihomepage/pmwiki.php?n=Course.CourseTALTME3pp\n",
    "    \n",
    "    \n",
    "    # elimination tabulations et retours à la ligne\n",
    "    s = re.sub(\"\\s\",\" \",re.sub(\"\\s(?=\\s)\",\" \",s))\n",
    "    # elimination des ponctuations\n",
    "    punc = '!\"#$%&\\()*+,-./:;<=>?@[\\\\]^_`{|}~'\n",
    "    s = s.translate(str.maketrans(punc, ' ' * len(punc)))\n",
    "    # elimination des chiffres\n",
    "    s = re.sub(' \\d+', '', s)\n",
    "    # elimination des espaces multiples\n",
    "    s = re.sub(' +', ' ', s)\n",
    "\n",
    "    return s"
   ]
  },
  {
   "cell_type": "code",
   "execution_count": 7,
   "metadata": {},
   "outputs": [],
   "source": [
    "def stemmatisation(s):\n",
    "    stemmer = SnowballStemmer('english',ignore_stopwords=True)\n",
    "    words = s.split()\n",
    "    words_stem = [stemmer.stem(w) for w in words]\n",
    "    return \" \".join(words_stem)"
   ]
  },
  {
   "cell_type": "code",
   "execution_count": 8,
   "metadata": {},
   "outputs": [],
   "source": [
    "def lemmatisation(s):\n",
    "    lemmatizer = WordNetLemmatizer()\n",
    "    words = s.split()\n",
    "    words_lema = [lemmatizer.lemmatize(w) for w in words]\n",
    "    return \" \".join(words_lema)"
   ]
  },
  {
   "cell_type": "code",
   "execution_count": 9,
   "metadata": {},
   "outputs": [
    {
     "data": {
      "text/plain": [
       "\"you've got mail works alot better than it deserves to in order to make the film a success all they had to do was cast two extremely popular and attractive stars have them share the screen for about two hours and then collect the profits no real acting was involved and there is not an original or inventive bone in it's body it's basically a complete re shoot of the shop around the corner only adding a few modern twists essentially it goes against and defies all concepts of good contemporary filmmaking it's overly sentimental and at times terribly mushy not to mention very manipulative but oh how enjoyable that manipulation is but there must be something other than the casting and manipulation that makes the movie work as well as it does because i absolutely hated the previous ryan hanks teaming sleepless in seattle it couldn't have been the directing because both films were helmed by the same woman i haven't quite yet figured out what i liked so much about you've got mail but then again is that really important if you like something so much why even question it again the storyline is as cliched as they come tom hanks plays joe fox the insanely likeable owner of a discount book chain and meg ryan plays kathleen kelley the even more insanely likeable proprietor of a family run children's book shop called in a nice homage the shop around the corner fox and kelley soon become bitter rivals because the new fox books store is opening up right across the block from the small business little do they know they are already in love with each other over the internet only neither party knows the other person's true identity the rest of the story isn't important because all it does is serve as a mere backdrop for the two stars to share the screen sure there are some mildly interesting subplots but they all fail in comparison to the utter cuteness of the main relationship all of this of course leads up to the predictable climax but as foreseeable as the ending is it's so damn cute and well done that i doubt any movie in the entire year contains a scene the evokes as much pure joy as this part does when ryan discovers the true identity of her online love i was filled with such for lack of a better word happiness that for the first time all year i actually left the theater smiling \""
      ]
     },
     "execution_count": 9,
     "metadata": {},
     "output_type": "execute_result"
    }
   ],
   "source": [
    "preprocess(pos[2])"
   ]
  },
  {
   "cell_type": "code",
   "execution_count": 10,
   "metadata": {},
   "outputs": [
    {
     "data": {
      "text/plain": [
       "\"you've got mail work alot better than it deserv to in order to make the film a success all they had to do was cast two extrem popular and attract star have them share the screen for about two hour and then collect the profit no real act was involv and there is not an origin or invent bone in it's bodi it's basic a complet re shoot of the shop around the corner only ad a few modern twist essenti it goe against and defi all concept of good contemporari filmmak it's over sentiment and at time terribl mushi not to mention very manipul but oh how enjoy that manipul is but there must be someth other than the cast and manipul that make the movi work as well as it does because i absolut hate the previous ryan hank team sleepless in seattl it couldn't have been the direct because both film were helm by the same woman i haven't quit yet figur out what i like so much about you've got mail but then again is that realli import if you like someth so much why even question it again the storylin is as clich as they come tom hank play joe fox the insan likeabl owner of a discount book chain and meg ryan play kathleen kelley the even more insan likeabl proprietor of a famili run children book shop call in a nice homag the shop around the corner fox and kelley soon becom bitter rival because the new fox book store is open up right across the block from the small busi littl do they know they are alreadi in love with each other over the internet only neither parti know the other person true ident the rest of the stori isn't import because all it does is serv as a mere backdrop for the two star to share the screen sure there are some mild interest subplot but they all fail in comparison to the utter cute of the main relationship all of this of cours lead up to the predict climax but as forese as the end is it's so damn cute and well done that i doubt any movi in the entir year contain a scene the evok as much pure joy as this part does when ryan discov the true ident of her onlin love i was fill with such for lack of a better word happi that for the first time all year i actual left the theater smile\""
      ]
     },
     "execution_count": 10,
     "metadata": {},
     "output_type": "execute_result"
    }
   ],
   "source": [
    "stemmatisation(preprocess(pos[2]))"
   ]
  },
  {
   "cell_type": "code",
   "execution_count": 11,
   "metadata": {},
   "outputs": [
    {
     "name": "stdout",
     "output_type": "stream",
     "text": [
      "['i', 'me', 'my', 'myself', 'we', 'our', 'ours', 'ourselves', 'you', \"you're\", \"you've\", \"you'll\", \"you'd\", 'your', 'yours', 'yourself', 'yourselves', 'he', 'him', 'his', 'himself', 'she', \"she's\", 'her', 'hers', 'herself', 'it', \"it's\", 'its', 'itself', 'they', 'them', 'their', 'theirs', 'themselves', 'what', 'which', 'who', 'whom', 'this', 'that', \"that'll\", 'these', 'those', 'am', 'is', 'are', 'was', 'were', 'be', 'been', 'being', 'have', 'has', 'had', 'having', 'do', 'does', 'did', 'doing', 'a', 'an', 'the', 'and', 'but', 'if', 'or', 'because', 'as', 'until', 'while', 'of', 'at', 'by', 'for', 'with', 'about', 'against', 'between', 'into', 'through', 'during', 'before', 'after', 'above', 'below', 'to', 'from', 'up', 'down', 'in', 'out', 'on', 'off', 'over', 'under', 'again', 'further', 'then', 'once', 'here', 'there', 'when', 'where', 'why', 'how', 'all', 'any', 'both', 'each', 'few', 'more', 'most', 'other', 'some', 'such', 'no', 'nor', 'not', 'only', 'own', 'same', 'so', 'than', 'too', 'very', 's', 't', 'can', 'will', 'just', 'don', \"don't\", 'should', \"should've\", 'now', 'd', 'll', 'm', 'o', 're', 've', 'y', 'ain', 'aren', \"aren't\", 'couldn', \"couldn't\", 'didn', \"didn't\", 'doesn', \"doesn't\", 'hadn', \"hadn't\", 'hasn', \"hasn't\", 'haven', \"haven't\", 'isn', \"isn't\", 'ma', 'mightn', \"mightn't\", 'mustn', \"mustn't\", 'needn', \"needn't\", 'shan', \"shan't\", 'shouldn', \"shouldn't\", 'wasn', \"wasn't\", 'weren', \"weren't\", 'won', \"won't\", 'wouldn', \"wouldn't\"]\n"
     ]
    }
   ],
   "source": [
    "print(stopwords.words('english'))"
   ]
  },
  {
   "cell_type": "code",
   "execution_count": 12,
   "metadata": {},
   "outputs": [
    {
     "data": {
      "text/plain": [
       "'got mail work alot better deserv order make film success cast two extrem popular attract star share screen two hour collect profit real act involv origin invent bone bodi basic complet shoot shop around corner ad modern twist essenti goe defi concept good contemporari filmmak sentiment time terribl mushi mention manipul oh enjoy manipul must someth cast manipul make movi work well absolut hate previous ryan hank team sleepless seattl direct film helm woman quit yet figur like much got mail realli import like someth much even question storylin clich come tom hank play joe fox insan likeabl owner discount book chain meg ryan play kathleen kelley even insan likeabl proprietor famili run children book shop call nice homag shop around corner fox kelley soon becom bitter rival new fox book store open right across block small busi littl know alreadi love internet neither parti know person true ident rest stori import serv mere backdrop two star share screen sure mild interest subplot fail comparison utter cute main relationship cours lead predict climax forese end damn cute well done doubt movi entir year contain scene evok much pure joy part ryan discov true ident onlin love fill lack better word happi first time year actual left theater smile'"
      ]
     },
     "execution_count": 12,
     "metadata": {},
     "output_type": "execute_result"
    }
   ],
   "source": [
    "\" \".join([w for w in stemmatisation(preprocess(pos[2])).split() if w not in stopwords.words('english')])"
   ]
  },
  {
   "cell_type": "code",
   "execution_count": 13,
   "metadata": {},
   "outputs": [],
   "source": [
    "corpus_train = [stemmatisation(preprocess(d)) for d in pos + neg]"
   ]
  },
  {
   "cell_type": "code",
   "execution_count": 14,
   "metadata": {},
   "outputs": [],
   "source": [
    "vectorizer = CountVectorizer(stop_words=stopwords.words('english'))\n",
    "X = vectorizer.fit_transform(corpus_train)"
   ]
  },
  {
   "cell_type": "code",
   "execution_count": 15,
   "metadata": {},
   "outputs": [
    {
     "name": "stdout",
     "output_type": "stream",
     "text": [
      "Nombre de mots dans le vocabulaire :  24956\n",
      "10 mots du vocabulaire :  ['cyndi' 'cynic' 'cynthia' 'cypher' 'cyr' 'cyril' 'cyrus' 'cystic' 'czech'\n",
      " 'czechoslovakia']\n"
     ]
    }
   ],
   "source": [
    "vocab = np.array(vectorizer.get_feature_names())\n",
    "\n",
    "print(\"Nombre de mots dans le vocabulaire : \", len(vocab))\n",
    "print(\"10 mots du vocabulaire : \", vocab[5000:5010])"
   ]
  },
  {
   "cell_type": "code",
   "execution_count": 16,
   "metadata": {},
   "outputs": [
    {
     "data": {
      "image/png": "[encoded data removed]",
      "text/plain": [
       "<Figure size 432x288 with 1 Axes>"
      ]
     },
     "metadata": {
      "needs_background": "light"
     },
     "output_type": "display_data"
    },
    {
     "data": {
      "image/png": "[encoded data removed]",
      "text/plain": [
       "<Figure size 432x288 with 1 Axes>"
      ]
     },
     "metadata": {
      "needs_background": "light"
     },
     "output_type": "display_data"
    }
   ],
   "source": [
    "tf_pos = X.toarray().sum(0)[:1000]\n",
    "tf_neg = X.toarray().sum(0)[1000:]\n",
    "\n",
    "n = 20\n",
    "\n",
    "ind_p = tf_pos.argsort()[:n]\n",
    "ind_n = tf_neg.argsort()[:n]\n",
    "\n",
    "plt.barh(vocab[ind_p], tf_pos[ind_p])\n",
    "plt.title(\"les \"+str(n)+\" mots les moins fréquents (positif)\")\n",
    "plt.show()\n",
    "\n",
    "plt.barh(vocab[ind_n], tf_neg[ind_n])\n",
    "plt.title(\"les \"+str(n)+\" mots les moins fréquents (négatif)\")\n",
    "plt.show()"
   ]
  },
  {
   "cell_type": "code",
   "execution_count": 29,
   "metadata": {},
   "outputs": [
    {
     "data": {
      "image/png": "[encoded data removed]",
      "text/plain": [
       "<Figure size 432x288 with 1 Axes>"
      ]
     },
     "metadata": {
      "needs_background": "light"
     },
     "output_type": "display_data"
    },
    {
     "data": {
      "image/png": "[encoded data removed]",
      "text/plain": [
       "<Figure size 432x288 with 1 Axes>"
      ]
     },
     "metadata": {
      "needs_background": "light"
     },
     "output_type": "display_data"
    }
   ],
   "source": [
    "ind_p = tf_pos.argsort()[-n:]\n",
    "ind_n = tf_neg.argsort()[-n:]\n",
    "\n",
    "plt.barh(vocab[ind_p], tf_pos[ind_p])\n",
    "plt.title(\"les \"+str(n)+\" mots les plus fréquents (positif)\")\n",
    "plt.show()\n",
    "\n",
    "plt.barh(vocab[ind_n], tf_neg[ind_n])\n",
    "plt.title(\"les \"+str(n)+\" mots les plus fréquents (négatif)\")\n",
    "plt.show()"
   ]
  },
  {
   "cell_type": "code",
   "execution_count": 35,
   "metadata": {},
   "outputs": [],
   "source": [
    "def cross_validation(clf, X, y, n_splits=5):\n",
    "    scores = []\n",
    "    skf = StratifiedKFold(n_splits=n_splits, shuffle=True)\n",
    "    for train_index, test_index in skf.split(X, y):\n",
    "        X_train, X_test = X[train_index], X[test_index]\n",
    "        y_train, y_test = y[train_index], y[test_index]\n",
    "        clf.fit(X_train, y_train)\n",
    "        scores.append(clf.score(X_test,y_test))\n",
    "        \n",
    "    return sum(scores)/n_splits"
   ]
  },
  {
   "cell_type": "code",
   "execution_count": 19,
   "metadata": {},
   "outputs": [],
   "source": [
    "def mot_gram(ngram):\n",
    "    if ngram == 1:\n",
    "        return \"unigrams\"\n",
    "    elif ngram == 2:\n",
    "        return \"bigrams\"\n",
    "    elif ngram == 3:\n",
    "        return \"trigrams\"\n",
    "    else:\n",
    "        return \"ngrams\""
   ]
  },
  {
   "cell_type": "code",
   "execution_count": 20,
   "metadata": {},
   "outputs": [],
   "source": [
    "def get_len_vocab(corpus, ngram, stop_words = None):\n",
    "    vectorizer = CountVectorizer(stop_words = stop_words, ngram_range = (1,ngram))\n",
    "    vectorizer.fit_transform(corpus)\n",
    "    return len(vectorizer.get_feature_names())"
   ]
  },
  {
   "cell_type": "markdown",
   "metadata": {},
   "source": [
    "# Campagne d'évaluation et comparaison de 3 modèles de classification"
   ]
  },
  {
   "cell_type": "raw",
   "metadata": {},
   "source": [
    "Cette campagne d'évaluation va consister à choisir les meilleurs paramètres pour déterminer la classe d'un avis.\n",
    "\n",
    "Les paramètres qui seront modulés :\n",
    "- Stopwords\n",
    "- Unigram/Bigram/Trigram\n",
    "- Stemmatisation\n",
    "- Majuscule ou minuscule"
   ]
  },
  {
   "cell_type": "code",
   "execution_count": 43,
   "metadata": {},
   "outputs": [],
   "source": [
    "def campagne_evaluation(corpus, labels, stop_words, ngram, classifieur):\n",
    "    if classifieur == \"bayes\":\n",
    "        clf = bayes.MultinomialNB()\n",
    "    elif classifieur == \"svm\":\n",
    "        clf = svm.LinearSVC(C = 0.1, max_iter = 50000, dual=False)\n",
    "    elif classifieur == \"reg_log\":\n",
    "        clf = lin.LogisticRegression(C = 0.1, max_iter = 10000)\n",
    "    else:\n",
    "        raise ValueError(\"No classifier between, svm, bayes and lin\")\n",
    "    \n",
    "    tic = time.perf_counter() \n",
    "        \n",
    "    ordinate = [[] for i in range(4)]\n",
    "    abscissa = np.linspace(20, get_len_vocab(corpus, ngram), 20, dtype = int)\n",
    "    abscissa_sw = np.linspace(20, get_len_vocab(corpus, ngram, stop_words), 20, dtype = int)\n",
    "    \n",
    "    # Sans stop words\n",
    "    for step in abscissa:\n",
    "        vectorizer = CountVectorizer(max_features=step, ngram_range=(1,ngram))\n",
    "        tf_idf = TfidfVectorizer(max_features=step, ngram_range=(1,ngram))\n",
    "        X_v = vectorizer.fit_transform(corpus)\n",
    "        X_t = tf_idf.fit_transform(corpus)\n",
    "        ordinate[0].append(cross_validation(clf, X_v, labels))\n",
    "        ordinate[1].append(cross_validation(clf, X_t, labels))\n",
    "             \n",
    "    # Avec stop words\n",
    "    for step in abscissa_sw:\n",
    "        vectorizer = CountVectorizer(max_features=step, ngram_range=(1,ngram), stop_words=stop_words)\n",
    "        tf_idf = TfidfVectorizer(max_features=step, ngram_range=(1,ngram), stop_words=stop_words)\n",
    "        X_v = vectorizer.fit_transform(corpus)\n",
    "        X_t = tf_idf.fit_transform(corpus)\n",
    "        ordinate[2].append(cross_validation(clf, X_v, labels))\n",
    "        ordinate[3].append(cross_validation(clf, X_t, labels))\n",
    "\n",
    "    plt.show()\n",
    "    plt.plot(abscissa, ordinate[0],label='TF')\n",
    "    plt.plot(abscissa, ordinate[1],label='TFIDF')\n",
    "    plt.plot(abscissa_sw, ordinate[2],label='stopword TF')\n",
    "    plt.plot(abscissa_sw, ordinate[3],label='stopword TFIDF')\n",
    "    plt.legend()\n",
    "    plt.title(\"Accuracy en fonction du nb de mots conservés : \"+mot_gram(ngram)+\", \"+classifieur)\n",
    "    plt.xlabel(\"Nombre de mots conservés\")\n",
    "    plt.ylabel(\"Accuracy\")\n",
    "    plt.show()\n",
    "    \n",
    "    ind = np.argmax(ordinate, axis = 1)\n",
    "    max_gram = [abscissa[ind[0]], abscissa[ind[1]], abscissa_sw[ind[2]], abscissa_sw[ind[3]]] \n",
    "\n",
    "    print(\"Temps d'éxécution : \"+str(round(time.perf_counter()-tic, 2))+\" secondes\")\n",
    "    print(\"Meilleur score <\"+str(ordinate[0][ind[0]])+\"> pour TF avec \"+(str(max_gram[0]))+\" \"+mot_gram(ngram))\n",
    "    print(\"Meilleur score <\"+str(ordinate[1][ind[1]])+\"> pour TF-IDF avec \"+(str(max_gram[1]))+\" \"+mot_gram(ngram))\n",
    "    print(\"Meilleur score <\"+str(ordinate[2][ind[2]])+\"> pour TF sans stopwords avec \"+(str(max_gram[2]))+\" \"+mot_gram(ngram))\n",
    "    print(\"Meilleur score <\"+str(ordinate[3][ind[3]])+\"> pour TF-IDF sans stopwords avec \"+(str(max_gram[3]))+\" \"+mot_gram(ngram))\n",
    "    \n",
    "    return max_gram"
   ]
  },
  {
   "cell_type": "markdown",
   "metadata": {},
   "source": [
    "### 1- SVM"
   ]
  },
  {
   "cell_type": "markdown",
   "metadata": {},
   "source": [
    "UNIGRAM"
   ]
  },
  {
   "cell_type": "code",
   "execution_count": 44,
   "metadata": {
    "scrolled": true
   },
   "outputs": [
    {
     "data": {
      "image/png": "[encoded data removed]",
      "text/plain": [
       "<Figure size 432x288 with 1 Axes>"
      ]
     },
     "metadata": {
      "needs_background": "light"
     },
     "output_type": "display_data"
    },
    {
     "name": "stdout",
     "output_type": "stream",
     "text": [
      "Temps d'éxécution : 325.15 secondes\n",
      "Meilleur score <0.8435> pour TF avec 25099 unigrams\n",
      "Meilleur score <0.8314999999999999> pour TF-IDF avec 9259 unigrams\n",
      "Meilleur score <0.8365> pour TF sans stopwords avec 23643 unigrams\n",
      "Meilleur score <0.8394999999999999> pour TF-IDF sans stopwords avec 2644 unigrams\n"
     ]
    }
   ],
   "source": [
    "svm1 = campagne_evaluation(corpus_train, np.array(lab_pos+lab_neg), stopwords.words('english'), 1, \"svm\")"
   ]
  },
  {
   "cell_type": "markdown",
   "metadata": {},
   "source": [
    "BIGRAM"
   ]
  },
  {
   "cell_type": "code",
   "execution_count": 45,
   "metadata": {},
   "outputs": [
    {
     "data": {
      "image/png": "[encoded data removed]",
      "text/plain": [
       "<Figure size 432x288 with 1 Axes>"
      ]
     },
     "metadata": {
      "needs_background": "light"
     },
     "output_type": "display_data"
    },
    {
     "name": "stdout",
     "output_type": "stream",
     "text": [
      "Temps d'éxécution : 2476.08 secondes\n",
      "Meilleur score <0.8550000000000001> pour TF avec 247373 bigrams\n",
      "Meilleur score <0.8305> pour TF-IDF avec 24755 bigrams\n",
      "Meilleur score <0.8564999999999999> pour TF sans stopwords avec 186367 bigrams\n",
      "Meilleur score <0.833> pour TF-IDF sans stopwords avec 26641 bigrams\n"
     ]
    }
   ],
   "source": [
    "svm2 = campagne_evaluation(corpus_train, np.array(lab_pos+lab_neg), stopwords.words('english'), 2, \"svm\")"
   ]
  },
  {
   "cell_type": "markdown",
   "metadata": {},
   "source": [
    "TRIGRAM"
   ]
  },
  {
   "cell_type": "code",
   "execution_count": null,
   "metadata": {},
   "outputs": [],
   "source": [
    "svm3 = campagne_evaluation(corpus_train, np.array(lab_pos+lab_neg), stopwords.words('english'), 3, \"svm\")"
   ]
  },
  {
   "cell_type": "markdown",
   "metadata": {},
   "source": [
    "### 2- Régression Logistique"
   ]
  },
  {
   "cell_type": "markdown",
   "metadata": {},
   "source": [
    "UNIGRAM"
   ]
  },
  {
   "cell_type": "code",
   "execution_count": null,
   "metadata": {},
   "outputs": [],
   "source": [
    "logistic1 = campagne_evaluation(corpus_train, np.array(lab_pos+lab_neg), stopwords.words('english'), 1, \"reg_log\")"
   ]
  },
  {
   "cell_type": "markdown",
   "metadata": {},
   "source": [
    "BIGRAM"
   ]
  },
  {
   "cell_type": "code",
   "execution_count": null,
   "metadata": {},
   "outputs": [],
   "source": [
    "logistic2 = campagne_evaluation(corpus_train, np.array(lab_pos+lab_neg), stopwords.words('english'), 2, \"reg_log\")"
   ]
  },
  {
   "cell_type": "markdown",
   "metadata": {},
   "source": [
    "TRIGRAM"
   ]
  },
  {
   "cell_type": "code",
   "execution_count": null,
   "metadata": {},
   "outputs": [],
   "source": [
    "logistic3 = campagne_evaluation(corpus_train, np.array(lab_pos+lab_neg), stopwords.words('english'), 2, \"reg_log\")"
   ]
  },
  {
   "cell_type": "markdown",
   "metadata": {},
   "source": [
    "### 3-Naive Bayes"
   ]
  },
  {
   "cell_type": "markdown",
   "metadata": {},
   "source": [
    "UNIGRAM"
   ]
  },
  {
   "cell_type": "code",
   "execution_count": null,
   "metadata": {},
   "outputs": [],
   "source": [
    "bayes1 = campagne_evaluation(corpus_train, np.array(lab_pos+lab_neg), stopwords.words('english'), 1, \"bayes\")"
   ]
  },
  {
   "cell_type": "markdown",
   "metadata": {},
   "source": [
    "BIGRAM"
   ]
  },
  {
   "cell_type": "code",
   "execution_count": null,
   "metadata": {},
   "outputs": [],
   "source": [
    "bayes2 = campagne_evaluation(corpus_train, np.array(lab_pos+lab_neg), stopwords.words('english'), 2, \"bayes\")"
   ]
  },
  {
   "cell_type": "markdown",
   "metadata": {},
   "source": [
    "TRIGRAM"
   ]
  },
  {
   "cell_type": "code",
   "execution_count": null,
   "metadata": {},
   "outputs": [],
   "source": [
    "bayes3 = campagne_evaluation(corpus_train, np.array(lab_pos+lab_neg), stopwords.words('english'), 3, \"bayes\")"
   ]
  },
  {
   "cell_type": "markdown",
   "metadata": {},
   "source": [
    "## Génération des prédictions pour le dataset de test"
   ]
  },
  {
   "cell_type": "code",
   "execution_count": null,
   "metadata": {},
   "outputs": [],
   "source": []
  },
  {
   "cell_type": "markdown",
   "metadata": {},
   "source": [
    "# Conclusion"
   ]
  },
  {
   "cell_type": "raw",
   "metadata": {},
   "source": [
    "zefezzfezfezfezfez\n",
    "zfezfezezzfzefzfez\n",
    "zefzeezezfzefezfez"
   ]
  }
 ],
 "metadata": {
  "kernelspec": {
   "display_name": "Python 3",
   "language": "python",
   "name": "python3"
  },
  "language_info": {
   "codemirror_mode": {
    "name": "ipython",
    "version": 3
   },
   "file_extension": ".py",
   "mimetype": "text/x-python",
   "name": "python",
   "nbconvert_exporter": "python",
   "pygments_lexer": "ipython3",
   "version": "3.7.6"
  }
 },
 "nbformat": 4,
 "nbformat_minor": 4
}
